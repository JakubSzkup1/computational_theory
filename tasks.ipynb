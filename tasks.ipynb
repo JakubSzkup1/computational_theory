{
 "cells": [
  {
   "cell_type": "code",
   "execution_count": 18,
   "metadata": {},
   "outputs": [],
   "source": [
    "import numpy as np\n",
    "import matplotlib.pyplot as plt"
   ]
  },
  {
   "cell_type": "markdown",
   "metadata": {},
   "source": [
    "## Task1: Binary Representations\n",
    "\n",
    "## Introduction\n",
    "Binary representations are fundamental when it comes to computing and cryptography. Many cryptographic has functions such as **SHA-256** use bitwise operations. Bitwise operations such as rotations and logical functions process data efficiently this way. \n",
    "\n",
    "this task implements:\n",
    "- **Left Rotation (`rotl`)**\n",
    "- **Right Rotation (`rotr`)**\n",
    "- **Bitwise Choice (`ch`)**\n",
    "- **Bitwise Majority (`maj`)**\n",
    "\n",
    "These operations are often used in **hash functions and encryption algorithms** ([Bitwise Operators in Python](https://wiki.python.org/moin/BitwiseOperators)).\n",
    "\n",
    "\n",
    "\n"
   ]
  },
  {
   "cell_type": "markdown",
   "metadata": {},
   "source": [
    "## Left Rotation (`rotl`)\n",
    "\n",
    "### Formula: \n",
    "The left rotation of a 32-bit unsigned integer `x` by `n` positions is defined as:"
   ]
  },
  {
   "cell_type": "code",
   "execution_count": 19,
   "metadata": {},
   "outputs": [],
   "source": [
    "# Function: Rotate Left (rotl)\n",
    "def rotl(x, n=1):\n",
    "    \n",
    "    return ((x << n) | (x >> (32 - n))) &0xFFFFFFFF"
   ]
  },
  {
   "cell_type": "code",
   "execution_count": 20,
   "metadata": {},
   "outputs": [
    {
     "name": "stdout",
     "output_type": "stream",
     "text": [
      "Test Case 1: rotl(0x00000001, 1) = 0x2\n",
      "Test Case 2: rotl(0x80000000, 1) = 0x1\n",
      "Test Case 3: rotl(0x12345678, 4) = 0x23456781\n",
      "✅All test cases passed!\n"
     ]
    }
   ],
   "source": [
    "# Test Case 1\n",
    "result1 = rotl(0x00000001, 1)\n",
    "print(\"Test Case 1: rotl(0x00000001, 1) =\", hex(result1))  # Expected: 0x2\n",
    "\n",
    "# Test Case 2\n",
    "result2 = rotl(0x80000000, 1)\n",
    "print(\"Test Case 2: rotl(0x80000000, 1) =\", hex(result2))  # Expected: 0x1\n",
    "\n",
    "# Test Case 3\n",
    "result3 = rotl(0x12345678, 4)\n",
    "print(\"Test Case 3: rotl(0x12345678, 4) =\", hex(result3))  # Expected: 0x23456781\n",
    "\n",
    "assert result1 == 0x2, \"Test Case 1 Failed\"\n",
    "assert result2 == 0x1, \"Test Case 2 Failed\"\n",
    "assert result3 == 0x23456781, \"Test Case 3 Failed\"\n",
    "\n",
    "print(\"✅All test cases passed!\")"
   ]
  },
  {
   "cell_type": "markdown",
   "metadata": {},
   "source": [
    "\n",
    "**Explanation:**\n",
    "- **`x << n`**: This shifts the bits in `x` to the left by `n` places. Bits that move past the left end are normally dropped.\n",
    "- **`x >> (32 - n)`**: This shifts the bits in `x` to the right by `32 - n` places. This brings in the bits that were dropped from the left.\n",
    "- **Bitwise OR (`|`)**: This combines the two shifted values, effectively wrapping the dropped bits around to the right.\n",
    "- **Bitwise AND (`& 0xFFFFFFFF`)**: This makes sure the result remains a 32-bit number.\n",
    "\n",
    "**Reference:**\n",
    "This method is commonly used for bit manipulation in programming. For more information on bitwise operations in Python,[Python Bitwise Operators Documentation](https://docs.python.org/3/library/stdtypes.html#bitwise-operators).\n"
   ]
  },
  {
   "cell_type": "markdown",
   "metadata": {},
   "source": [
    "## Right Rotation (`rotr`)\n",
    "\n",
    "### Formula:\n",
    "The right rotation of a 32-bit unsigned integer x by n positions is defined as:\n",
    "\n"
   ]
  },
  {
   "cell_type": "code",
   "execution_count": 21,
   "metadata": {},
   "outputs": [],
   "source": [
    "# Function: Rotate Right (rotr)\n",
    "def rotr(x, n=1):\n",
    "\n",
    "    return ((x >> n) | (x << (32 -n))) & 0xFFFFFFFF"
   ]
  },
  {
   "cell_type": "code",
   "execution_count": 22,
   "metadata": {},
   "outputs": [
    {
     "name": "stdout",
     "output_type": "stream",
     "text": [
      "Test Case 1: rotr(0x00000002, 1) = 0x1\n",
      "Test case 2: rotr(0x00000001, 1) = 0x80000000\n",
      "Test case 3: rotr (0x1234567, 4) = 0x81234567\n",
      "✅All test cases passed!\n"
     ]
    }
   ],
   "source": [
    "# Test case 1\n",
    "result1 =rotr(0x00000002, 1)\n",
    "print(\"Test Case 1: rotr(0x00000002, 1) =\", hex(result1)) # Expected: 0x1\n",
    "\n",
    "# Test case 2\n",
    "result2 =rotr(0x00000001, 1)\n",
    "print(\"Test case 2: rotr(0x00000001, 1) =\", hex(result2)) # Expected: 0x80000000\n",
    "\n",
    "# Test case 3\n",
    "result3 =rotr(0x12345678, 4)\n",
    "print(\"Test case 3: rotr (0x1234567, 4) =\", hex(result3)) #Expected: 0x81234567\n",
    "\n",
    "assert result1 == 0x1, \"Test case 1 Failed\"\n",
    "assert result2 == 0x80000000, \"Test case 2 Failed\"\n",
    "assert result3 == 0x81234567, \"Test Case 3 Failed\"\n",
    "\n",
    "print(\"✅All test cases passed!\")"
   ]
  },
  {
   "cell_type": "markdown",
   "metadata": {},
   "source": [
    "**Explanation:**\n",
    "- **`x >> n`**: This shifts the bits in `x` to the by `n` places. This drops the n bits furthest to the right.\n",
    "- **`x << (32 -n)`**: This shifts the bits in `x` to the left by `(32 -n)` places, moving the bits that would be dropped from the right to the postion furthest to the left.\n",
    "- **Bitwise OR `(|)`**: This combines the two shifted values, effectively wrapping the bits that fell of on the right back to the left.\n",
    "- **Bitwise AND `(& 0xFFFFFFFF)`**: This ensures that the final result is limited to 32 bits.\n",
    "\n",
    "**Reference:** \n",
    "This method is commonly used for bit manipulation in programming. For more information, check out:\n",
    "\n",
    "- [Python Bitwise Operators Documentation](https://docs.python.org/3/library/stdtypes.html#bitwise-operators)  \n",
    "- [GeeksforGeeks: Python Bitwise Operators](https://www.geeksforgeeks.org/python-bitwise-operators/)  \n",
    "- [Real Python: Bitwise Operators in Python](https://realpython.com/python-bitwise-operators/)"
   ]
  },
  {
   "cell_type": "markdown",
   "metadata": {},
   "source": [
    "## Bitwise Choice (`ch`)\n",
    "\n",
    "### Formula:\n",
    "The bitwise choice function selects bits from `y` where the corresponding bit in `x` is 1, and then from `z` where the corresponding bit in `x` is 0. It is defines as:"
   ]
  },
  {
   "cell_type": "code",
   "execution_count": 23,
   "metadata": {},
   "outputs": [],
   "source": [
    "# Function: Choose (ch)\n",
    "def ch(x, y, z):\n",
    "\n",
    "    return ((x & y) ^ (~x & z)) & 0xFFFFFFFF"
   ]
  },
  {
   "cell_type": "code",
   "execution_count": 24,
   "metadata": {},
   "outputs": [
    {
     "name": "stdout",
     "output_type": "stream",
     "text": [
      "Test case 1: ch(0b1100, 0b1010, 0b0110) = 0b1010\n",
      "Test case 2: ch(0xFFFFFFFF, 0x12345678, 0x9ABCDEF0) = 0x12345678\n",
      "Test case 3: ch(0x0, 0x12345678, 0x9ABCDEF0) = 0x9abcdef0\n",
      "✅All test cases passed!\n"
     ]
    }
   ],
   "source": [
    "# Test Case 1:\n",
    "# For x = 0b1100, y = 0b1010, z = 0b0110:\n",
    "# Calculation: (0b1100 & 0b1010) = 0b1000, (~0b1100 & 0b0110) = 0b0110, then 0b1000 ^ 0b0110 = 0b1010\n",
    "result1 = ch(0b1100, 0b1010, 0b0110)\n",
    "print(\"Test case 1: ch(0b1100, 0b1010, 0b0110) =\", bin(result1)) # Expected: 0b1010\n",
    "\n",
    "# Test Case 2:\n",
    "# For x = 0xFFFFFFFF (all bits 1), y = 0x12345678, z = 0x9ABCDEF0:\n",
    "result2 = ch(0xFFFFFFFF, 0x12345678, 0x9ABCDEF0)\n",
    "print(\"Test case 2: ch(0xFFFFFFFF, 0x12345678, 0x9ABCDEF0) =\", hex(result2))  # Expected: 0x12345678\n",
    "\n",
    "# Test Case 3:\n",
    "# For x = 0x0 (all bits 0), y = 0x12345678, z = 0x9ABCDEF0:\n",
    "result3 = ch(0x0, 0x12345678, 0x9ABCDEF0)\n",
    "print(\"Test case 3: ch(0x0, 0x12345678, 0x9ABCDEF0) =\", hex(result3)) # Expected: 0x9abcdef0\n",
    "\n",
    "#Automated Tests\n",
    "assert result1 == 0b1010, \"Test Case 1 Failed\"\n",
    "assert result2 == 0x12345678, \"Test Case 2 Failed\"\n",
    "assert result3 == 0x9ABCDEF0, \"Test Case 3 Failed\"\n",
    "\n",
    "print(\"✅All test cases passed!\")\n"
   ]
  },
  {
   "cell_type": "markdown",
   "metadata": {},
   "source": [
    "### Explanation:\n",
    "- **`x & y`**: this extracts bits from `y` at positions where `x` has a 1.\n",
    "- **`~x & z`**: This extracts bitsd from `z` at positions where `x` has a 0.\n",
    "- **Bitwise XOR (`^`)**: This combines the two parts to form the final result.\n",
    "- **Bitwise AND with `0xFFFFFFFF`**: This ensures that the output is limited to a 32-bit unsigned integer.\n",
    "\n",
    "### References:\n",
    "- [Python Bitwise Operators Documentation](https://docs.python.org/3/library/stdtypes.html#bitwise-operators)\n",
    "- [GeeksforGeeks: Python Bitwise Operators](https://www.geeksforgeeks.org/python-bitwise-operators/)\n",
    "- [Real Python: Bitwise Operators in Python](https://realpython.com/python-bitwise-operators/)"
   ]
  },
  {
   "cell_type": "markdown",
   "metadata": {},
   "source": [
    "## Majority Function (`maj`)\n",
    "\n",
    "### Formula:\n",
    "The `maj` function calculates the majority of the bits in `x`, `y`, and `z`.For each bit postion it determines if at least two of the three values have a `1`, if so the result has a `1` in that position, otherwise it has a a `0`."
   ]
  },
  {
   "cell_type": "code",
   "execution_count": 25,
   "metadata": {},
   "outputs": [],
   "source": [
    "# Function: Majority (maj)\n",
    "def maj(x, y, z):\n",
    "\n",
    "    return  ((x & y) ^ (x & z) ^ (y & z)) & 0xFFFFFFFF\n"
   ]
  },
  {
   "cell_type": "code",
   "execution_count": 26,
   "metadata": {},
   "outputs": [
    {
     "name": "stdout",
     "output_type": "stream",
     "text": [
      "Test Case 1: maj(0xAAAAAAAA, 0xAAAAAAAA, 0xAAAAAAAA) = 0xaaaaaaaa\n",
      "Test Case 2: maj(0xFFFFFFFF, 0xFFFFFFFF,0x00000000) = 0xffffffff\n",
      "Test Case 3: maj(0x00000000, 0x00000000, 0xFFFFFFFF) = 0x0\n",
      "Test Case 4: maj(0b1010, 0b1100, 0b1001) = 0b1000\n",
      "✅All test cases passed!\n"
     ]
    }
   ],
   "source": [
    "# Test Case 1\n",
    "# All inputs are the same\n",
    "# So if x, y, and z are identical, maj (x, y, z) should then return the same value\n",
    "result1 = maj(0xAAAAAAAA, 0xAAAAAAAA, 0xAAAAAAAA)\n",
    "print(\"Test Case 1: maj(0xAAAAAAAA, 0xAAAAAAAA, 0xAAAAAAAA) =\", hex(result1)) #Expected: 0xAAAAAAAA\n",
    "\n",
    "# Test Case 2\n",
    "# Two inputs are all 1s and one is all 0s\n",
    "# So if two inputs have all bits set (0xFFFFFFFF) and one has none (0xFFFFFFFF), the result should be 0xFFFFFFFF\n",
    "result2 = maj(0xFFFFFFFF, 0xFFFFFFFF,0x00000000)\n",
    "print(\"Test Case 2: maj(0xFFFFFFFF, 0xFFFFFFFF,0x00000000) =\", hex(result2)) #Expected: 0xFFFFFFFF\n",
    "\n",
    "# Test Case 3\n",
    "# Two inputs are 0s and one is all 1s\n",
    "# So if two inputs are 0x00000000  and one is 0xFFFFFFFF, this means the majority should be 0x00000000\n",
    "result3 = maj(0x00000000, 0x00000000, 0xFFFFFFFF)\n",
    "print(\"Test Case 3: maj(0x00000000, 0x00000000, 0xFFFFFFFF) =\", hex(result3)) #Expected: 0x00000000\n",
    "\n",
    "#Test Case 4:\n",
    "# Randomly mixed inputs\n",
    "# So for example: x = 0b1010, y = 0b1100, z = 0b1001\n",
    "# The expected ouput should then be 0b1000 as atleast two of the inputs have 1 in the highest postion\n",
    "result4 = maj(0b1010, 0b1100, 0b1001)\n",
    "print(\"Test Case 4: maj(0b1010, 0b1100, 0b1001) =\", bin(result4)) #Expected: 0b1000\n",
    "\n",
    "#Automated Tests\n",
    "assert result1 == 0xAAAAAAAA, \"Test Case 1 Failed\"\n",
    "assert result2 == 0xFFFFFFFF, \"Test Case 2 Failed\"\n",
    "assert result3 == 0x00000000, \"Test Case 3 Failed\"\n",
    "assert result4 == 0b1000, \"Test Case 4 Failed\"\n",
    "\n",
    "print(\"✅All test cases passed!\")\n"
   ]
  },
  {
   "cell_type": "markdown",
   "metadata": {},
   "source": [
    "### Explanation:\n",
    "- **`x & y`**: Takes bits where both `x` and `y` have a `1`.\n",
    "- **`x & z`**: Takes bits where both `x` and `z` have a `1`.\n",
    "- **`y & z`**: Takes bits where both `y` and `z` have a `1`.\n",
    "- **Bitwise XOR (`^`)**: This combines these values to make sure that a bit is set to `1` but only when atleast two of `x`, `y`, and `z` have a `1`.\n",
    "- **Bitwise AND (`& 0xFFFFFFFF`)**: This makes sure the result is limited to a 32-bit unsigned integer \n",
    "\n",
    "### References:\n",
    "- [Python Bitwise Operators Documentation](https://docs.python.org/3/library/stdtypes.html#bitwise-operators)\n",
    "\n",
    "\n"
   ]
  },
  {
   "cell_type": "markdown",
   "metadata": {},
   "source": [
    "# Task 2: Hash Functions\n",
    "\n",
    "## Introduction\n",
    "\n",
    "In this task, we will convert a simple hash function from C into Python. The original C function (from *The C Programming Language* by Kernighan & Ritchie) computes a hash value for a given string using multiplication and modulo arithmetic. The goal in this task is to translate this given logic into Python so we can verify its correctness with some test cases.\n",
    "\n",
    "The original C function is:\n",
    "```c\n",
    "unsigned hash(char *s) {\n",
    "    unsigned hashval;\n",
    "    for (hashval = 0; *s != '\\0'; s++)\n",
    "        hashval = *s + 31 * hashval;\n",
    "    return hashval % 101;\n",
    "}"
   ]
  },
  {
   "cell_type": "markdown",
   "metadata": {},
   "source": [
    "\n",
    "## Converting the Hash Function from C to Python\n",
    "\n",
    "### Key Differences:\n",
    "- **Data Types:**\n",
    "C uses fixed-sized integers for exmample, `unsigned int`.\n",
    "Python however uses arbitrary precision integers.\n",
    "\n",
    "- **String Handling:**\n",
    "In C Programming, string are processes with pointer arithmetic.\n",
    "In python strings are iterable and can be looped over directly.\n",
    "\n",
    "- **Character Conversion:**\n",
    "Characters in C are inherently integers and in Python we have to convert characters to their ASCII values using `ord(char)`.\n",
    "\n",
    "- **Looping:**\n",
    "C loops trough the string by usuing pointers and Python simply iterates over the string.\n",
    "\n",
    "\n",
    "### The Hash Update Formula:\n",
    "So in C, the update is done with:\n",
    "```c\n",
    "hashval = (ord(char) + 31 * previous_hashval) % 101;\n",
    "\n"
   ]
  },
  {
   "cell_type": "markdown",
   "metadata": {},
   "source": [
    "In Python, the same formula is used, making sure the result is in the range [0,100]."
   ]
  },
  {
   "cell_type": "code",
   "execution_count": 27,
   "metadata": {},
   "outputs": [],
   "source": [
    "# Function: Implementing the Hash Function in Python\n",
    "def simple_hash(s):\n",
    "\n",
    "    hashval =0\n",
    "    for char in s:\n",
    "        # Update hash value using the ASCII code of the character\n",
    "        hashval = (ord(char)+31* hashval) %101\n",
    "    return hashval"
   ]
  },
  {
   "cell_type": "code",
   "execution_count": 28,
   "metadata": {},
   "outputs": [
    {
     "name": "stdout",
     "output_type": "stream",
     "text": [
      "Test Case1: simple_hash('hello') = 17\n",
      "Test Case 2: simple_hash('world) = 34\n",
      "Test Case 3: simple_hash('test) = 86\n",
      "Test Case 4: simple_hash('') = 0\n",
      "✅ All test cases passed!\n"
     ]
    }
   ],
   "source": [
    "# Test Cases for simple_hash function\n",
    "\n",
    "# Test Case 1: \"hello\"\n",
    "result1 = simple_hash(\"hello\")\n",
    "print(\"Test Case1: simple_hash('hello') =\", result1)\n",
    "\n",
    "# Test Case 2: \"world\"\n",
    "result2 =simple_hash(\"world\")\n",
    "print(\"Test Case 2: simple_hash('world) =\", result2)\n",
    "\n",
    "# Test Case 3: \"test\"\n",
    "result3= simple_hash(\"test\")\n",
    "print(\"Test Case 3: simple_hash('test) =\", result3)\n",
    "\n",
    "# Test Case 4: Empty String\n",
    "result4 = simple_hash(\"\")\n",
    "print(\"Test Case 4: simple_hash('') =\", result4)\n",
    "\n",
    "\n",
    "#Automated testing using assert statements\n",
    "assert result1 == simple_hash('hello'), \"Test Case 1 Failed\"\n",
    "assert result2 == simple_hash('world'), \"Test Case 2 Failed\"\n",
    "assert result3 == simple_hash('test'), \"Test Case 3 Failed\"\n",
    "assert result4 == 0, \"Test Case 4 Failed\"\n",
    "\n",
    "print(\"✅ All test cases passed!\")"
   ]
  },
  {
   "cell_type": "markdown",
   "metadata": {},
   "source": [
    "I took the advantage of using Python by using some of the following features:\n",
    "- Looping directly over the string.\n",
    "- Converting each character to its ASCII value using `ord(char)`.\n",
    "- Used the same formula to update the hash value, making sure it remians within the range [0,100] by using the modulo operator.\n",
    "\n",
    "This translation of the code mainly maintains the core logic of the C implementation but uses python's simple way of processing strings.\n",
    "\n",
    "Overall, this tasks shows us how a low-level C algorithm can be used in Python."
   ]
  },
  {
   "cell_type": "markdown",
   "metadata": {},
   "source": [
    "# Task 3: SHA256 Padding\n",
    "\n",
    "## Introduction\n",
    "In this task we will implement a function that can calculate the SHA256 padding for a given file. Sha256 padding is important so we can make sure that the message length becomes a mulitple of 512 bits, as required by the SHA256 specification.\n",
    "\n",
    "The process involves:\n",
    "- Attaching a single '1' bit (represented as as `0x80` in hex).\n",
    "- Adding enough zero bits so that the total length macthes to 448 modulo 512.\n",
    "- Attaching the original message length as a 64 bit big-endian integer.\n",
    "\n",
    "We can see this procedure as specified in [NIST FIPS PUB 180-4](https://nvlpubs.nist.gov/nistpubs/FIPS/NIST.FIPS.180-4.pdf).\n",
    "\n",
    "*Additional References:*\n",
    "- [Wikipedia: SHA-2](https://en.wikipedia.org/wiki/SHA-2)\n",
    "- [GeeksForGeek: What is SHA256?](https://www.geeksforgeeks.org/difference-between-sha1-and-sha256/?ref=gcse_outind)\n",
    "\n"
   ]
  },
  {
   "cell_type": "markdown",
   "metadata": {},
   "source": [
    "## Padding Process Explained:\n",
    "The SHA 256 padding process works as follows:\n",
    "\n",
    "1. **Determine original message length:**\n",
    "calculate the length og the orginal message in bits.\n",
    "\n",
    "2. **Attach the '1' Bit:**\n",
    "Attach a single '1' bit to the message.\n",
    "\n",
    "3. **Attach Zero Bits:**\n",
    "Calculate and attach the needed number of zero bit so that the total length in bits of the message is 448 modulo 512.\n",
    "\n",
    "4. **Attach the message length**\n",
    "Attach the original message length as a 64 bit big-endian integer.\n"
   ]
  },
  {
   "cell_type": "code",
   "execution_count": 29,
   "metadata": {},
   "outputs": [],
   "source": [
    "def sha256_padding(file_path):\n",
    "\n",
    "    # Read the file as bytes\n",
    "    with open(file_path, 'rb') as f:\n",
    "        message =f.read()\n",
    "\n",
    "    # Calculate the original message length in bits\n",
    "    original_length_bits = len(message) * 8\n",
    "\n",
    "    # Attach the '1' bit to the message (0x80)\n",
    "    padding = b'\\x80'\n",
    "\n",
    "    # Calculate the number of zero bits thats needed\n",
    "    # add 8 bits as 0x80 = 8 bits\n",
    "    padding_length_bits = (448 - (original_length_bits + 8) % 512) % 512\n",
    "    padding_zero_bytes = padding_length_bits // 8\n",
    "\n",
    "    # Attach zero bytes\n",
    "    padding += b'\\x00' * padding_zero_bytes\n",
    "\n",
    "    # Attach the original length as a 64-bit big-endian integer\n",
    "    length_bytes = original_length_bits.to_bytes(8, 'big')\n",
    "    final_padding = padding + length_bytes\n",
    "\n",
    "    # Print the final padding in hexadecimal\n",
    "    hex_padding = ' '.join(f'{byte:02x}' for byte in final_padding)\n",
    "    print(hex_padding)\n",
    "    \n",
    "\n",
    "   \n"
   ]
  },
  {
   "cell_type": "markdown",
   "metadata": {},
   "source": [
    "## Testing `sha256_padding`\n",
    "Using [Bit Counter](https://lingojam.com/BitCounter) to check that the bits are being counted correctly."
   ]
  },
  {
   "cell_type": "code",
   "execution_count": 30,
   "metadata": {},
   "outputs": [
    {
     "name": "stdout",
     "output_type": "stream",
     "text": [
      "80 00 00 00 00 00 00 00 00 00 00 00 00 00 00 00 00 00 00 00 00 00 00 00 00 00 00 00 00 00 00 00 00 00 00 00 00 00 00 00 00 00 00 00 00 00 00 00 00 00 00 00 00 00 00 00 00 00 00 00 18\n"
     ]
    }
   ],
   "source": [
    "# Call function\n",
    "sha256_padding(\"sample.txt\")"
   ]
  },
  {
   "cell_type": "markdown",
   "metadata": {},
   "source": [
    "# Task 4: Prime Numbers\n",
    "\n",
    "## Introduction\n",
    "In this task we are going to find the first 100 prime numbers using two different methods:\n",
    "\n",
    "1. **Iterative Prime Checking:**\n",
    "This method checks if a number is prime by dividing it by the primes we already found. If it's not divisible by any of them then it's a prime.\n",
    "\n",
    "2. **Sieve of Eratotheenes:**\n",
    "\n",
    "\n",
    "*References:*\n",
    "- [Fundamental Theorem of Arithmetic (Wikipedia)](https://en.wikipedia.org/wiki/Fundamental_theorem_of_arithmetic)"
   ]
  },
  {
   "cell_type": "markdown",
   "metadata": {},
   "source": [
    "## Iterative Prime Checking Method\n",
    "This method finds primes by going trough numbers one by one.\n",
    "- So we check if a number can be divided by any of the primes we already found.\n",
    "- If it's not, its a prime.\n",
    "- We Keep doing this until we have 100 primes.\n",
    "\n",
    "This is a simple approach that works, but it's not the fastest."
   ]
  },
  {
   "cell_type": "markdown",
   "metadata": {},
   "source": [
    "### Check if n is prime by testing if it can be diveded with already found primes."
   ]
  },
  {
   "cell_type": "code",
   "execution_count": 31,
   "metadata": {},
   "outputs": [
    {
     "name": "stdout",
     "output_type": "stream",
     "text": [
      "is_prime(2, []): True\n",
      "is_prime(3, [2]): True\n",
      "is_prime(4, [2]): False\n",
      "is_prime(9, [2, 3]): False\n",
      "is_prime(11, [2, 3, 5, 7]): True\n"
     ]
    }
   ],
   "source": [
    "def is_prime(n, primes):\n",
    "\n",
    "    for p in primes:\n",
    "        if p * p > n:\n",
    "            break\n",
    "        if n % p == 0:\n",
    "            return False\n",
    "    return True\n",
    "\n",
    "# Test the is_prime function some examples    \n",
    "print(\"is_prime(2, []):\", is_prime(2, []))  \n",
    "print(\"is_prime(3, [2]):\", is_prime(3, [2]))   \n",
    "print(\"is_prime(4, [2]):\", is_prime(3, [1]))  \n",
    "print(\"is_prime(9, [2, 3]):\", is_prime(9, [2, 3]))  \n",
    "print(\"is_prime(11, [2, 3, 5, 7]):\", is_prime(11, [2, 3, 5, 7]))\n"
   ]
  },
  {
   "cell_type": "markdown",
   "metadata": {},
   "source": [
    "In the above outputs we verify the `is_prime` method\n",
    "- is_prime(2, []): 2 is a prime number\n",
    "- is_prime(3, [2]): 3 is a prime number\n",
    "- is_prime(4, [2]): 4 is not a prime number\n",
    "- is_prime(9, [2, 3]): 9 is not prime (9 is divisble by 3)\n",
    "- is_prime(11, [2, 3, 5, 7]): 11 is a prime"
   ]
  },
  {
   "cell_type": "markdown",
   "metadata": {},
   "source": [
    "### Generate the first 'limit' prime numbers using an iterative method"
   ]
  },
  {
   "cell_type": "code",
   "execution_count": 32,
   "metadata": {},
   "outputs": [],
   "source": [
    "def generate_primes_iterative(limit):\n",
    "    \n",
    "    primes = []\n",
    "    first_prime = 2  # Start from 2, the first prime number\n",
    "    while len(primes) < limit:\n",
    "        if is_prime(first_prime, primes):\n",
    "            primes.append(first_prime)\n",
    "        first_prime += 1\n",
    "    return primes"
   ]
  },
  {
   "cell_type": "code",
   "execution_count": 33,
   "metadata": {},
   "outputs": [
    {
     "name": "stdout",
     "output_type": "stream",
     "text": [
      "Iterative Method Primes: [2, 3, 5, 7, 11, 13, 17, 19, 23, 29, 31, 37, 41, 43, 47, 53, 59, 61, 67, 71, 73, 79, 83, 89, 97, 101, 103, 107, 109, 113, 127, 131, 137, 139, 149, 151, 157, 163, 167, 173, 179, 181, 191, 193, 197, 199, 211, 223, 227, 229, 233, 239, 241, 251, 257, 263, 269, 271, 277, 281, 283, 293, 307, 311, 313, 317, 331, 337, 347, 349, 353, 359, 367, 373, 379, 383, 389, 397, 401, 409, 419, 421, 431, 433, 439, 443, 449, 457, 461, 463, 467, 479, 487, 491, 499, 503, 509, 521, 523, 541]\n"
     ]
    }
   ],
   "source": [
    "# Generate the first 100 primes using the iterative method\n",
    "iterative_primes = generate_primes_iterative(100)\n",
    "print(\"Iterative Method Primes:\", iterative_primes)"
   ]
  },
  {
   "cell_type": "markdown",
   "metadata": {},
   "source": [
    "## Sieve of Eratosthenes Method\n",
    "Now instead of checking each number on by one, we can use this method which marks the multiples of each prime number so we don't have to check them later.\n",
    "\n",
    "Steps:\n",
    "1. Start with a list of numbers.\n",
    "2. Mark all multiples of 2 and then move to the next number and so on.\n",
    "3. Repeat until we have gone trough the list.\n",
    "4. The numbers that are not marked during the process are primes.\n",
    "\n",
    "This method is much faster when needing to sort trough a large number of primes."
   ]
  },
  {
   "cell_type": "markdown",
   "metadata": {},
   "source": [
    "### Generate prime numbers using Sieve of Eratosthenes until the 'limit'(100) is reached"
   ]
  },
  {
   "cell_type": "code",
   "execution_count": 34,
   "metadata": {},
   "outputs": [],
   "source": [
    "def generate_primes_sieve(limit):\n",
    "    \n",
    "    #Upper bound estimate to find atleast 100 primes\n",
    "    upper_bound = 600\n",
    "    is_prime = [True] * (upper_bound + 1)\n",
    "    is_prime[0] = is_prime[1] = False  # 0 and 1 are not primes\n",
    "\n",
    "    p = 2\n",
    "    while p * p <= upper_bound:\n",
    "        if is_prime[p]:\n",
    "            for i in range(p * p, upper_bound + 1, p):\n",
    "                is_prime[i] = False\n",
    "        p += 1\n",
    "    \n",
    "    primes = [i for i, flag in enumerate(is_prime) if flag]\n",
    "    return primes[:limit]\n"
   ]
  },
  {
   "cell_type": "code",
   "execution_count": 35,
   "metadata": {},
   "outputs": [
    {
     "name": "stdout",
     "output_type": "stream",
     "text": [
      "Sieve Method Primes: [2, 3, 5, 7, 11, 13, 17, 19, 23, 29, 31, 37, 41, 43, 47, 53, 59, 61, 67, 71, 73, 79, 83, 89, 97, 101, 103, 107, 109, 113, 127, 131, 137, 139, 149, 151, 157, 163, 167, 173, 179, 181, 191, 193, 197, 199, 211, 223, 227, 229, 233, 239, 241, 251, 257, 263, 269, 271, 277, 281, 283, 293, 307, 311, 313, 317, 331, 337, 347, 349, 353, 359, 367, 373, 379, 383, 389, 397, 401, 409, 419, 421, 431, 433, 439, 443, 449, 457, 461, 463, 467, 479, 487, 491, 499, 503, 509, 521, 523, 541]\n"
     ]
    }
   ],
   "source": [
    "# Generate the first 100 primes using the Sieve of Eratosthenes\n",
    "sieve_primes = generate_primes_sieve(100)\n",
    "print(\"Sieve Method Primes:\", sieve_primes)"
   ]
  },
  {
   "cell_type": "markdown",
   "metadata": {},
   "source": [
    "## Comparing Both Methods"
   ]
  }
 ],
 "metadata": {
  "kernelspec": {
   "display_name": "Python 3",
   "language": "python",
   "name": "python3"
  },
  "language_info": {
   "codemirror_mode": {
    "name": "ipython",
    "version": 3
   },
   "file_extension": ".py",
   "mimetype": "text/x-python",
   "name": "python",
   "nbconvert_exporter": "python",
   "pygments_lexer": "ipython3",
   "version": "3.12.1"
  }
 },
 "nbformat": 4,
 "nbformat_minor": 2
}
