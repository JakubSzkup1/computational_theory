{
 "cells": [
  {
   "cell_type": "code",
   "execution_count": 15,
   "metadata": {},
   "outputs": [],
   "source": [
    "import numpy as np\n",
    "import matplotlib.pyplot as plt"
   ]
  },
  {
   "cell_type": "markdown",
   "metadata": {},
   "source": [
    "## Task1: Binary Representations\n",
    "\n",
    "## Introduction\n",
    "Binary representations are fundamental when it comes to computing and cryptography. Many cryptographic has functions such as **SHA-256** use bitwise operations. Bitwise operations such as rotations and logical functions process data efficiently this way. \n",
    "\n",
    "this task implements:\n",
    "- **Left Rotation (`rotl`)**\n",
    "- **Right Rotation (`rotr`)**\n",
    "- **Bitwise Choice (`ch`)**\n",
    "- **Bitwise Majority (`maj`)**\n",
    "\n",
    "These operations are often used in **hash functions and encryption algorithms** ([Bitwise Operators in Python](https://wiki.python.org/moin/BitwiseOperators)).\n",
    "\n",
    "\n",
    "\n"
   ]
  },
  {
   "cell_type": "markdown",
   "metadata": {},
   "source": [
    "## Left Rotation (`rotl`)\n",
    "\n",
    "### Formula: \n",
    "The left rotation of a 32-bit unsigned integer `x` by `n` positions is defined as:"
   ]
  },
  {
   "cell_type": "code",
   "execution_count": 16,
   "metadata": {},
   "outputs": [],
   "source": [
    "# Function: Rotate Left (rotl)\n",
    "def rotl(x, n=1):\n",
    "    \n",
    "    return ((x << n) | (x >> (32 - n))) &0xFFFFFFFF"
   ]
  },
  {
   "cell_type": "code",
   "execution_count": 17,
   "metadata": {},
   "outputs": [
    {
     "name": "stdout",
     "output_type": "stream",
     "text": [
      "Test Case 1: rotl(0x00000001, 1) = 0x2\n",
      "Test Case 2: rotl(0x80000000, 1) = 0x1\n",
      "Test Case 3: rotl(0x12345678, 4) = 0x23456781\n",
      "✅All test cases passed!\n"
     ]
    }
   ],
   "source": [
    "# Test Case 1\n",
    "result1 = rotl(0x00000001, 1)\n",
    "print(\"Test Case 1: rotl(0x00000001, 1) =\", hex(result1))  # Expected: 0x2\n",
    "\n",
    "# Test Case 2\n",
    "result2 = rotl(0x80000000, 1)\n",
    "print(\"Test Case 2: rotl(0x80000000, 1) =\", hex(result2))  # Expected: 0x1\n",
    "\n",
    "# Test Case 3\n",
    "result3 = rotl(0x12345678, 4)\n",
    "print(\"Test Case 3: rotl(0x12345678, 4) =\", hex(result3))  # Expected: 0x23456781\n",
    "\n",
    "assert result1 == 0x2, \"Test Case 1 Failed\"\n",
    "assert result2 == 0x1, \"Test Case 2 Failed\"\n",
    "assert result3 == 0x23456781, \"Test Case 3 Failed\"\n",
    "\n",
    "print(\"✅All test cases passed!\")"
   ]
  },
  {
   "cell_type": "markdown",
   "metadata": {},
   "source": [
    "\n",
    "**Explanation:**\n",
    "- **`x << n`**: This shifts the bits in `x` to the left by `n` places. Bits that move past the left end are normally dropped.\n",
    "- **`x >> (32 - n)`**: This shifts the bits in `x` to the right by `32 - n` places. This brings in the bits that were dropped from the left.\n",
    "- **Bitwise OR (`|`)**: This combines the two shifted values, effectively wrapping the dropped bits around to the right.\n",
    "- **Bitwise AND (`& 0xFFFFFFFF`)**: This makes sure the result remains a 32-bit number.\n",
    "\n",
    "**Reference:**\n",
    "This method is commonly used for bit manipulation in programming. For more information on bitwise operations in Python,[Python Bitwise Operators Documentation](https://docs.python.org/3/library/stdtypes.html#bitwise-operators).\n"
   ]
  },
  {
   "cell_type": "markdown",
   "metadata": {},
   "source": [
    "## Right Rotation (`rotr`)\n",
    "\n",
    "### Formula:\n",
    "The right rotation of a 32-bit unsigned integer x by n positions is defined as:\n",
    "\n"
   ]
  },
  {
   "cell_type": "code",
   "execution_count": 18,
   "metadata": {},
   "outputs": [],
   "source": [
    "# Function: Rotate Right (rotr)\n",
    "def rotr(x, n=1):\n",
    "\n",
    "    return ((x >> n) | (x << (32 -n))) & 0xFFFFFFFF"
   ]
  },
  {
   "cell_type": "code",
   "execution_count": 19,
   "metadata": {},
   "outputs": [
    {
     "name": "stdout",
     "output_type": "stream",
     "text": [
      "Test Case 1: rotr(0x00000002, 1) = 0x1\n",
      "Test case 2: rotr(0x00000001, 1) = 0x80000000\n",
      "Test case 3: rotr (0x1234567, 4) = 0x81234567\n",
      "✅All test cases passed!\n"
     ]
    }
   ],
   "source": [
    "# Test case 1\n",
    "result1 =rotr(0x00000002, 1)\n",
    "print(\"Test Case 1: rotr(0x00000002, 1) =\", hex(result1)) # Expected: 0x1\n",
    "\n",
    "# Test case 2\n",
    "result2 =rotr(0x00000001, 1)\n",
    "print(\"Test case 2: rotr(0x00000001, 1) =\", hex(result2)) # Expected: 0x80000000\n",
    "\n",
    "# Test case 3\n",
    "result3 =rotr(0x12345678, 4)\n",
    "print(\"Test case 3: rotr (0x1234567, 4) =\", hex(result3)) #Expected: 0x81234567\n",
    "\n",
    "assert result1 == 0x1, \"Test case 1 Failed\"\n",
    "assert result2 == 0x80000000, \"Test case 2 Failed\"\n",
    "assert result3 == 0x81234567, \"Test Case 3 Failed\"\n",
    "\n",
    "print(\"✅All test cases passed!\")"
   ]
  },
  {
   "cell_type": "markdown",
   "metadata": {},
   "source": [
    "**Explanation:**\n",
    "- **`x >> n`**: This shifts the bits in `x` to the by `n` places. This drops the n bits furthest to the right.\n",
    "- **`x << (32 -n)`**: This shifts the bits in `x` to the left by `(32 -n)` places, moving the bits that would be dropped from the right to the postion furthest to the left.\n",
    "- **Bitwise OR `(|)`**: This combines the two shifted values, effectively wrapping the bits that fell of on the right back to the left.\n",
    "- **Bitwise AND `(& 0xFFFFFFFF)`**: This ensures that the final result is limited to 32 bits.\n",
    "\n",
    "**Reference:** \n",
    "This method is commonly used for bit manipulation in programming. For more information, check out:\n",
    "\n",
    "- [Python Bitwise Operators Documentation](https://docs.python.org/3/library/stdtypes.html#bitwise-operators)  \n",
    "- [GeeksforGeeks: Python Bitwise Operators](https://www.geeksforgeeks.org/python-bitwise-operators/)  \n",
    "- [Real Python: Bitwise Operators in Python](https://realpython.com/python-bitwise-operators/)"
   ]
  },
  {
   "cell_type": "markdown",
   "metadata": {},
   "source": [
    "## Bitwise Choice (`ch`)\n",
    "\n",
    "### Formula:\n",
    "The bitwise choice function selects bits from `y` where the corresponding bit in `x` is 1, and then from `z` where the corresponding bit in `x` is 0. It is defines as:"
   ]
  },
  {
   "cell_type": "code",
   "execution_count": 20,
   "metadata": {},
   "outputs": [],
   "source": [
    "# Function: Choose (ch)\n",
    "def ch(x, y, z):\n",
    "\n",
    "    return ((x & y) ^ (~x & z)) & 0xFFFFFFFF"
   ]
  },
  {
   "cell_type": "code",
   "execution_count": 21,
   "metadata": {},
   "outputs": [
    {
     "name": "stdout",
     "output_type": "stream",
     "text": [
      "Test case 1: ch(0b1100, 0b1010, 0b0110) = 0b1010\n",
      "Test case 2: ch(0xFFFFFFFF, 0x12345678, 0x9ABCDEF0) = 0x12345678\n",
      "Test case 3: ch(0x0, 0x12345678, 0x9ABCDEF0) = 0x9abcdef0\n",
      "✅All test cases passed!\n"
     ]
    }
   ],
   "source": [
    "# Test Case 1:\n",
    "# For x = 0b1100, y = 0b1010, z = 0b0110:\n",
    "# Calculation: (0b1100 & 0b1010) = 0b1000, (~0b1100 & 0b0110) = 0b0110, then 0b1000 ^ 0b0110 = 0b1010\n",
    "result1 = ch(0b1100, 0b1010, 0b0110)\n",
    "print(\"Test case 1: ch(0b1100, 0b1010, 0b0110) =\", bin(result1)) # Expected: 0b1010\n",
    "\n",
    "# Test Case 2:\n",
    "# For x = 0xFFFFFFFF (all bits 1), y = 0x12345678, z = 0x9ABCDEF0:\n",
    "result2 = ch(0xFFFFFFFF, 0x12345678, 0x9ABCDEF0)\n",
    "print(\"Test case 2: ch(0xFFFFFFFF, 0x12345678, 0x9ABCDEF0) =\", hex(result2))  # Expected: 0x12345678\n",
    "\n",
    "# Test Case 3:\n",
    "# For x = 0x0 (all bits 0), y = 0x12345678, z = 0x9ABCDEF0:\n",
    "result3 = ch(0x0, 0x12345678, 0x9ABCDEF0)\n",
    "print(\"Test case 3: ch(0x0, 0x12345678, 0x9ABCDEF0) =\", hex(result3)) # Expected: 0x9abcdef0\n",
    "\n",
    "#Automated Tests\n",
    "assert result1 == 0b1010, \"Test Case 1 Failed\"\n",
    "assert result2 == 0x12345678, \"Test Case 2 Failed\"\n",
    "assert result3 == 0x9ABCDEF0, \"Test Case 3 Failed\"\n",
    "\n",
    "print(\"✅All test cases passed!\")\n"
   ]
  },
  {
   "cell_type": "markdown",
   "metadata": {},
   "source": [
    "### Explanation:\n",
    "- **`x & y`**: this extracts bits from `y` at positions where `x` has a 1.\n",
    "- **`~x & z`**: This extracts bitsd from `z` at positions where `x` has a 0.\n",
    "- **Bitwise XOR (`^`)**: This combines the two parts to form the final result.\n",
    "- **Bitwise AND with `0xFFFFFFFF`**: This ensures that the output is limited to a 32-bit unsigned integer.\n",
    "\n",
    "### References:\n",
    "- [Python Bitwise Operators Documentation](https://docs.python.org/3/library/stdtypes.html#bitwise-operators)\n",
    "- [GeeksforGeeks: Python Bitwise Operators](https://www.geeksforgeeks.org/python-bitwise-operators/)\n",
    "- [Real Python: Bitwise Operators in Python](https://realpython.com/python-bitwise-operators/)"
   ]
  },
  {
   "cell_type": "markdown",
   "metadata": {},
   "source": [
    "## Majority Function (`maj`)\n",
    "\n",
    "### Formula:\n",
    "The `maj` function calculates the majority of the bits in `x`, `y`, and `z`.For each bit postion it determines if at least two of the three values have a `1`, if so the result has a `1` in that position, otherwise it has a a `0`."
   ]
  },
  {
   "cell_type": "code",
   "execution_count": 22,
   "metadata": {},
   "outputs": [],
   "source": [
    "# Function: Majority (maj)\n",
    "def maj(x, y, z):\n",
    "\n",
    "    return  ((x & y) ^ (x & z) ^ (y & z)) & 0xFFFFFFFF\n"
   ]
  },
  {
   "cell_type": "code",
   "execution_count": 23,
   "metadata": {},
   "outputs": [
    {
     "name": "stdout",
     "output_type": "stream",
     "text": [
      "Test Case 1: maj(0xAAAAAAAA, 0xAAAAAAAA, 0xAAAAAAAA) = 0xaaaaaaaa\n",
      "Test Case 2: maj(0xFFFFFFFF, 0xFFFFFFFF,0x00000000) = 0xffffffff\n",
      "Test Case 3: maj(0x00000000, 0x00000000, 0xFFFFFFFF) = 0x0\n",
      "Test Case 4: maj(0b1010, 0b1100, 0b1001) = 0b1000\n",
      "✅All test cases passed!\n"
     ]
    }
   ],
   "source": [
    "# Test Case 1\n",
    "# All inputs are the same\n",
    "# So if x, y, and z are identical, maj (x, y, z) should then return the same value\n",
    "result1 = maj(0xAAAAAAAA, 0xAAAAAAAA, 0xAAAAAAAA)\n",
    "print(\"Test Case 1: maj(0xAAAAAAAA, 0xAAAAAAAA, 0xAAAAAAAA) =\", hex(result1)) #Expected: 0xAAAAAAAA\n",
    "\n",
    "# Test Case 2\n",
    "# Two inputs are all 1s and one is all 0s\n",
    "# So if two inputs have all bits set (0xFFFFFFFF) and one has none (0xFFFFFFFF), the result should be 0xFFFFFFFF\n",
    "result2 = maj(0xFFFFFFFF, 0xFFFFFFFF,0x00000000)\n",
    "print(\"Test Case 2: maj(0xFFFFFFFF, 0xFFFFFFFF,0x00000000) =\", hex(result2)) #Expected: 0xFFFFFFFF\n",
    "\n",
    "# Test Case 3\n",
    "# Two inputs are 0s and one is all 1s\n",
    "# So if two inputs are 0x00000000  and one is 0xFFFFFFFF, this means the majority should be 0x00000000\n",
    "result3 = maj(0x00000000, 0x00000000, 0xFFFFFFFF)\n",
    "print(\"Test Case 3: maj(0x00000000, 0x00000000, 0xFFFFFFFF) =\", hex(result3)) #Expected: 0x00000000\n",
    "\n",
    "#Test Case 4:\n",
    "# Randomly mixed inputs\n",
    "# So for example: x = 0b1010, y = 0b1100, z = 0b1001\n",
    "# The expected ouput should then be 0b1000 as atleast two of the inputs have 1 in the highest postion\n",
    "result4 = maj(0b1010, 0b1100, 0b1001)\n",
    "print(\"Test Case 4: maj(0b1010, 0b1100, 0b1001) =\", bin(result4)) #Expected: 0b1000\n",
    "\n",
    "#Automated Tests\n",
    "assert result1 == 0xAAAAAAAA, \"Test Case 1 Failed\"\n",
    "assert result2 == 0xFFFFFFFF, \"Test Case 2 Failed\"\n",
    "assert result3 == 0x00000000, \"Test Case 3 Failed\"\n",
    "assert result4 == 0b1000, \"Test Case 4 Failed\"\n",
    "\n",
    "print(\"✅All test cases passed!\")\n"
   ]
  },
  {
   "cell_type": "markdown",
   "metadata": {},
   "source": [
    "### Explanation:\n",
    "- **`x & y`**: Takes bits where both `x` and `y` have a `1`.\n",
    "- **`x & z`**: Takes bits where both `x` and `z` have a `1`.\n",
    "- **`y & z`**: Takes bits where both `y` and `z` have a `1`.\n",
    "- **Bitwise XOR (`^`)**: This combines these values to make sure that a bit is set to `1` but only when atleast two of `x`, `y`, and `z` have a `1`.\n",
    "- **Bitwise AND (`& 0xFFFFFFFF`)**: This makes sure the result is limited to a 32-bit unsigned integer \n",
    "\n",
    "### References:\n",
    "- [Python Bitwise Operators Documentation](https://docs.python.org/3/library/stdtypes.html#bitwise-operators)\n",
    "\n",
    "\n"
   ]
  },
  {
   "cell_type": "markdown",
   "metadata": {},
   "source": [
    "# Task 2: Hash Functions\n",
    "\n",
    "## Introduction\n",
    "\n",
    "In this task, we will convert a simple hash function from C into Python. The original C function (from *The C Programming Language* by Kernighan & Ritchie) computes a hash value for a given string using multiplication and modulo arithmetic. The goal in this task is to translate this given logic into Python so we can verify its correctness with some test cases.\n",
    "\n",
    "The original C function is:\n",
    "```c\n",
    "unsigned hash(char *s) {\n",
    "    unsigned hashval;\n",
    "    for (hashval = 0; *s != '\\0'; s++)\n",
    "        hashval = *s + 31 * hashval;\n",
    "    return hashval % 101;\n",
    "}"
   ]
  },
  {
   "cell_type": "markdown",
   "metadata": {},
   "source": [
    "## Understanding Hash Functions\n",
    "\n",
    "###\n",
    "\n",
    "###"
   ]
  },
  {
   "cell_type": "code",
   "execution_count": 24,
   "metadata": {},
   "outputs": [],
   "source": [
    "# Function: Implementing the Hash Function in Python"
   ]
  },
  {
   "cell_type": "code",
   "execution_count": 25,
   "metadata": {},
   "outputs": [],
   "source": [
    "# Example test cases"
   ]
  }
 ],
 "metadata": {
  "kernelspec": {
   "display_name": "Python 3",
   "language": "python",
   "name": "python3"
  },
  "language_info": {
   "codemirror_mode": {
    "name": "ipython",
    "version": 3
   },
   "file_extension": ".py",
   "mimetype": "text/x-python",
   "name": "python",
   "nbconvert_exporter": "python",
   "pygments_lexer": "ipython3",
   "version": "3.12.1"
  }
 },
 "nbformat": 4,
 "nbformat_minor": 2
}
