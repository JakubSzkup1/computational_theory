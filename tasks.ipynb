{
 "cells": [
  {
   "cell_type": "code",
   "execution_count": 1,
   "metadata": {},
   "outputs": [],
   "source": [
    "import numpy as np\n",
    "import matplotlib.pyplot as plt\n",
    "import math"
   ]
  },
  {
   "cell_type": "markdown",
   "metadata": {},
   "source": [
    "## Task1: Binary Representations\n",
    "\n",
    "## Introduction\n",
    "Binary representations are fundamental when it comes to computing and cryptography. Many cryptographic has functions such as **SHA-256** use bitwise operations. Bitwise operations such as rotations and logical functions process data efficiently this way. \n",
    "\n",
    "this task implements:\n",
    "- **Left Rotation (`rotl`)**\n",
    "- **Right Rotation (`rotr`)**\n",
    "- **Bitwise Choice (`ch`)**\n",
    "- **Bitwise Majority (`maj`)**\n",
    "\n",
    "These operations are often used in **hash functions and encryption algorithms** ([Bitwise Operators in Python](https://wiki.python.org/moin/BitwiseOperators)).\n",
    "\n",
    "\n",
    "\n"
   ]
  },
  {
   "cell_type": "markdown",
   "metadata": {},
   "source": [
    "## Left Rotation (`rotl`)\n",
    "\n",
    "### Formula: \n",
    "The left rotation of a 32-bit unsigned integer `x` by `n` positions is defined as:"
   ]
  },
  {
   "cell_type": "code",
   "execution_count": 2,
   "metadata": {},
   "outputs": [],
   "source": [
    "# Function: Rotate Left (rotl)\n",
    "def rotl(x, n=1):\n",
    "    \n",
    "    return ((x << n) | (x >> (32 - n))) &0xFFFFFFFF"
   ]
  },
  {
   "cell_type": "code",
   "execution_count": 3,
   "metadata": {},
   "outputs": [
    {
     "name": "stdout",
     "output_type": "stream",
     "text": [
      "Test Case 1: rotl(0x00000001, 1) = 0x2\n",
      "Test Case 2: rotl(0x80000000, 1) = 0x1\n",
      "Test Case 3: rotl(0x12345678, 4) = 0x23456781\n",
      "✅All test cases passed!\n"
     ]
    }
   ],
   "source": [
    "# Test Case 1\n",
    "result1 = rotl(0x00000001, 1)\n",
    "print(\"Test Case 1: rotl(0x00000001, 1) =\", hex(result1))  # Expected: 0x2\n",
    "\n",
    "# Test Case 2\n",
    "result2 = rotl(0x80000000, 1)\n",
    "print(\"Test Case 2: rotl(0x80000000, 1) =\", hex(result2))  # Expected: 0x1\n",
    "\n",
    "# Test Case 3\n",
    "result3 = rotl(0x12345678, 4)\n",
    "print(\"Test Case 3: rotl(0x12345678, 4) =\", hex(result3))  # Expected: 0x23456781\n",
    "\n",
    "assert result1 == 0x2, \"Test Case 1 Failed\"\n",
    "assert result2 == 0x1, \"Test Case 2 Failed\"\n",
    "assert result3 == 0x23456781, \"Test Case 3 Failed\"\n",
    "\n",
    "print(\"✅All test cases passed!\")"
   ]
  },
  {
   "cell_type": "markdown",
   "metadata": {},
   "source": [
    "\n",
    "**Explanation:**\n",
    "- **`x << n`**: This shifts the bits in `x` to the left by `n` places. Bits that move past the left end are normally dropped.\n",
    "- **`x >> (32 - n)`**: This shifts the bits in `x` to the right by `32 - n` places. This brings in the bits that were dropped from the left.\n",
    "- **Bitwise OR (`|`)**: This combines the two shifted values, effectively wrapping the dropped bits around to the right.\n",
    "- **Bitwise AND (`& 0xFFFFFFFF`)**: This makes sure the result remains a 32-bit number.\n",
    "\n",
    "**Reference:**\n",
    "This method is commonly used for bit manipulation in programming. For more information on bitwise operations in Python,[Python Bitwise Operators Documentation](https://docs.python.org/3/library/stdtypes.html#bitwise-operators).\n"
   ]
  },
  {
   "cell_type": "markdown",
   "metadata": {},
   "source": [
    "## Right Rotation (`rotr`)\n",
    "\n",
    "### Formula:\n",
    "The right rotation of a 32-bit unsigned integer x by n positions is defined as:\n",
    "\n"
   ]
  },
  {
   "cell_type": "code",
   "execution_count": 4,
   "metadata": {},
   "outputs": [],
   "source": [
    "# Function: Rotate Right (rotr)\n",
    "def rotr(x, n=1):\n",
    "\n",
    "    return ((x >> n) | (x << (32 -n))) & 0xFFFFFFFF"
   ]
  },
  {
   "cell_type": "code",
   "execution_count": 5,
   "metadata": {},
   "outputs": [
    {
     "name": "stdout",
     "output_type": "stream",
     "text": [
      "Test Case 1: rotr(0x00000002, 1) = 0x1\n",
      "Test case 2: rotr(0x00000001, 1) = 0x80000000\n",
      "Test case 3: rotr (0x1234567, 4) = 0x81234567\n",
      "✅All test cases passed!\n"
     ]
    }
   ],
   "source": [
    "# Test case 1\n",
    "result1 =rotr(0x00000002, 1)\n",
    "print(\"Test Case 1: rotr(0x00000002, 1) =\", hex(result1)) # Expected: 0x1\n",
    "\n",
    "# Test case 2\n",
    "result2 =rotr(0x00000001, 1)\n",
    "print(\"Test case 2: rotr(0x00000001, 1) =\", hex(result2)) # Expected: 0x80000000\n",
    "\n",
    "# Test case 3\n",
    "result3 =rotr(0x12345678, 4)\n",
    "print(\"Test case 3: rotr (0x1234567, 4) =\", hex(result3)) #Expected: 0x81234567\n",
    "\n",
    "assert result1 == 0x1, \"Test case 1 Failed\"\n",
    "assert result2 == 0x80000000, \"Test case 2 Failed\"\n",
    "assert result3 == 0x81234567, \"Test Case 3 Failed\"\n",
    "\n",
    "print(\"✅All test cases passed!\")"
   ]
  },
  {
   "cell_type": "markdown",
   "metadata": {},
   "source": [
    "**Explanation:**\n",
    "- **`x >> n`**: This shifts the bits in `x` to the by `n` places. This drops the n bits furthest to the right.\n",
    "- **`x << (32 -n)`**: This shifts the bits in `x` to the left by `(32 -n)` places, moving the bits that would be dropped from the right to the postion furthest to the left.\n",
    "- **Bitwise OR `(|)`**: This combines the two shifted values, effectively wrapping the bits that fell of on the right back to the left.\n",
    "- **Bitwise AND `(& 0xFFFFFFFF)`**: This ensures that the final result is limited to 32 bits.\n",
    "\n",
    "**Reference:** \n",
    "This method is commonly used for bit manipulation in programming. For more information, check out:\n",
    "\n",
    "- [Python Bitwise Operators Documentation](https://docs.python.org/3/library/stdtypes.html#bitwise-operators)  \n",
    "- [GeeksforGeeks: Python Bitwise Operators](https://www.geeksforgeeks.org/python-bitwise-operators/)  \n",
    "- [Real Python: Bitwise Operators in Python](https://realpython.com/python-bitwise-operators/)"
   ]
  },
  {
   "cell_type": "markdown",
   "metadata": {},
   "source": [
    "## Bitwise Choice (`ch`)\n",
    "\n",
    "### Formula:\n",
    "The bitwise choice function selects bits from `y` where the corresponding bit in `x` is 1, and then from `z` where the corresponding bit in `x` is 0. It is defines as:"
   ]
  },
  {
   "cell_type": "code",
   "execution_count": 6,
   "metadata": {},
   "outputs": [],
   "source": [
    "# Function: Choose (ch)\n",
    "def ch(x, y, z):\n",
    "\n",
    "    return ((x & y) ^ (~x & z)) & 0xFFFFFFFF"
   ]
  },
  {
   "cell_type": "code",
   "execution_count": 7,
   "metadata": {},
   "outputs": [
    {
     "name": "stdout",
     "output_type": "stream",
     "text": [
      "Test case 1: ch(0b1100, 0b1010, 0b0110) = 0b1010\n",
      "Test case 2: ch(0xFFFFFFFF, 0x12345678, 0x9ABCDEF0) = 0x12345678\n",
      "Test case 3: ch(0x0, 0x12345678, 0x9ABCDEF0) = 0x9abcdef0\n",
      "✅All test cases passed!\n"
     ]
    }
   ],
   "source": [
    "# Test Case 1:\n",
    "# For x = 0b1100, y = 0b1010, z = 0b0110:\n",
    "# Calculation: (0b1100 & 0b1010) = 0b1000, (~0b1100 & 0b0110) = 0b0110, then 0b1000 ^ 0b0110 = 0b1010\n",
    "result1 = ch(0b1100, 0b1010, 0b0110)\n",
    "print(\"Test case 1: ch(0b1100, 0b1010, 0b0110) =\", bin(result1)) # Expected: 0b1010\n",
    "\n",
    "# Test Case 2:\n",
    "# For x = 0xFFFFFFFF (all bits 1), y = 0x12345678, z = 0x9ABCDEF0:\n",
    "result2 = ch(0xFFFFFFFF, 0x12345678, 0x9ABCDEF0)\n",
    "print(\"Test case 2: ch(0xFFFFFFFF, 0x12345678, 0x9ABCDEF0) =\", hex(result2))  # Expected: 0x12345678\n",
    "\n",
    "# Test Case 3:\n",
    "# For x = 0x0 (all bits 0), y = 0x12345678, z = 0x9ABCDEF0:\n",
    "result3 = ch(0x0, 0x12345678, 0x9ABCDEF0)\n",
    "print(\"Test case 3: ch(0x0, 0x12345678, 0x9ABCDEF0) =\", hex(result3)) # Expected: 0x9abcdef0\n",
    "\n",
    "#Automated Tests\n",
    "assert result1 == 0b1010, \"Test Case 1 Failed\"\n",
    "assert result2 == 0x12345678, \"Test Case 2 Failed\"\n",
    "assert result3 == 0x9ABCDEF0, \"Test Case 3 Failed\"\n",
    "\n",
    "print(\"✅All test cases passed!\")\n"
   ]
  },
  {
   "cell_type": "markdown",
   "metadata": {},
   "source": [
    "### Explanation:\n",
    "- **`x & y`**: this extracts bits from `y` at positions where `x` has a 1.\n",
    "- **`~x & z`**: This extracts bitsd from `z` at positions where `x` has a 0.\n",
    "- **Bitwise XOR (`^`)**: This combines the two parts to form the final result.\n",
    "- **Bitwise AND with `0xFFFFFFFF`**: This ensures that the output is limited to a 32-bit unsigned integer.\n",
    "\n",
    "### References:\n",
    "- [Python Bitwise Operators Documentation](https://docs.python.org/3/library/stdtypes.html#bitwise-operators)\n",
    "- [GeeksforGeeks: Python Bitwise Operators](https://www.geeksforgeeks.org/python-bitwise-operators/)\n",
    "- [Real Python: Bitwise Operators in Python](https://realpython.com/python-bitwise-operators/)"
   ]
  },
  {
   "cell_type": "markdown",
   "metadata": {},
   "source": [
    "## Majority Function (`maj`)\n",
    "\n",
    "### Formula:\n",
    "The `maj` function calculates the majority of the bits in `x`, `y`, and `z`.For each bit postion it determines if at least two of the three values have a `1`, if so the result has a `1` in that position, otherwise it has a a `0`."
   ]
  },
  {
   "cell_type": "code",
   "execution_count": 8,
   "metadata": {},
   "outputs": [],
   "source": [
    "# Function: Majority (maj)\n",
    "def maj(x, y, z):\n",
    "\n",
    "    return  ((x & y) ^ (x & z) ^ (y & z)) & 0xFFFFFFFF\n"
   ]
  },
  {
   "cell_type": "code",
   "execution_count": 9,
   "metadata": {},
   "outputs": [
    {
     "name": "stdout",
     "output_type": "stream",
     "text": [
      "Test Case 1: maj(0xAAAAAAAA, 0xAAAAAAAA, 0xAAAAAAAA) = 0xaaaaaaaa\n",
      "Test Case 2: maj(0xFFFFFFFF, 0xFFFFFFFF,0x00000000) = 0xffffffff\n",
      "Test Case 3: maj(0x00000000, 0x00000000, 0xFFFFFFFF) = 0x0\n",
      "Test Case 4: maj(0b1010, 0b1100, 0b1001) = 0b1000\n",
      "✅All test cases passed!\n"
     ]
    }
   ],
   "source": [
    "# Test Case 1\n",
    "# All inputs are the same\n",
    "# So if x, y, and z are identical, maj (x, y, z) should then return the same value\n",
    "result1 = maj(0xAAAAAAAA, 0xAAAAAAAA, 0xAAAAAAAA)\n",
    "print(\"Test Case 1: maj(0xAAAAAAAA, 0xAAAAAAAA, 0xAAAAAAAA) =\", hex(result1)) #Expected: 0xAAAAAAAA\n",
    "\n",
    "# Test Case 2\n",
    "# Two inputs are all 1s and one is all 0s\n",
    "# So if two inputs have all bits set (0xFFFFFFFF) and one has none (0xFFFFFFFF), the result should be 0xFFFFFFFF\n",
    "result2 = maj(0xFFFFFFFF, 0xFFFFFFFF,0x00000000)\n",
    "print(\"Test Case 2: maj(0xFFFFFFFF, 0xFFFFFFFF,0x00000000) =\", hex(result2)) #Expected: 0xFFFFFFFF\n",
    "\n",
    "# Test Case 3\n",
    "# Two inputs are 0s and one is all 1s\n",
    "# So if two inputs are 0x00000000  and one is 0xFFFFFFFF, this means the majority should be 0x00000000\n",
    "result3 = maj(0x00000000, 0x00000000, 0xFFFFFFFF)\n",
    "print(\"Test Case 3: maj(0x00000000, 0x00000000, 0xFFFFFFFF) =\", hex(result3)) #Expected: 0x00000000\n",
    "\n",
    "#Test Case 4:\n",
    "# Randomly mixed inputs\n",
    "# So for example: x = 0b1010, y = 0b1100, z = 0b1001\n",
    "# The expected ouput should then be 0b1000 as atleast two of the inputs have 1 in the highest postion\n",
    "result4 = maj(0b1010, 0b1100, 0b1001)\n",
    "print(\"Test Case 4: maj(0b1010, 0b1100, 0b1001) =\", bin(result4)) #Expected: 0b1000\n",
    "\n",
    "#Automated Tests\n",
    "assert result1 == 0xAAAAAAAA, \"Test Case 1 Failed\"\n",
    "assert result2 == 0xFFFFFFFF, \"Test Case 2 Failed\"\n",
    "assert result3 == 0x00000000, \"Test Case 3 Failed\"\n",
    "assert result4 == 0b1000, \"Test Case 4 Failed\"\n",
    "\n",
    "print(\"✅All test cases passed!\")\n"
   ]
  },
  {
   "cell_type": "markdown",
   "metadata": {},
   "source": [
    "### Explanation:\n",
    "- **`x & y`**: Takes bits where both `x` and `y` have a `1`.\n",
    "- **`x & z`**: Takes bits where both `x` and `z` have a `1`.\n",
    "- **`y & z`**: Takes bits where both `y` and `z` have a `1`.\n",
    "- **Bitwise XOR (`^`)**: This combines these values to make sure that a bit is set to `1` but only when atleast two of `x`, `y`, and `z` have a `1`.\n",
    "- **Bitwise AND (`& 0xFFFFFFFF`)**: This makes sure the result is limited to a 32-bit unsigned integer \n",
    "\n",
    "### References:\n",
    "- [Python Bitwise Operators Documentation](https://docs.python.org/3/library/stdtypes.html#bitwise-operators)\n",
    "\n",
    "\n"
   ]
  },
  {
   "cell_type": "markdown",
   "metadata": {},
   "source": [
    "# Task 2: Hash Functions\n",
    "\n",
    "## Introduction\n",
    "\n",
    "In this task, we will convert a simple hash function from C into Python. The original C function (from *The C Programming Language* by Kernighan & Ritchie) computes a hash value for a given string using multiplication and modulo arithmetic. The goal in this task is to translate this given logic into Python so we can verify its correctness with some test cases.\n",
    "\n",
    "The original C function is:\n",
    "```c\n",
    "unsigned hash(char *s) {\n",
    "    unsigned hashval;\n",
    "    for (hashval = 0; *s != '\\0'; s++)\n",
    "        hashval = *s + 31 * hashval;\n",
    "    return hashval % 101;\n",
    "}"
   ]
  },
  {
   "cell_type": "markdown",
   "metadata": {},
   "source": [
    "\n",
    "## Converting the Hash Function from C to Python\n",
    "\n",
    "### Key Differences:\n",
    "- **Data Types:**\n",
    "C uses fixed-sized integers for exmample, `unsigned int`.\n",
    "Python however uses arbitrary precision integers.\n",
    "\n",
    "- **String Handling:**\n",
    "In C Programming, string are processes with pointer arithmetic.\n",
    "In python strings are iterable and can be looped over directly.\n",
    "\n",
    "- **Character Conversion:**\n",
    "Characters in C are inherently integers and in Python we have to convert characters to their ASCII values using `ord(char)`.\n",
    "\n",
    "- **Looping:**\n",
    "C loops trough the string by usuing pointers and Python simply iterates over the string.\n",
    "\n",
    "\n",
    "### The Hash Update Formula:\n",
    "So in C, the update is done with:\n",
    "```c\n",
    "hashval = (ord(char) + 31 * previous_hashval) % 101;\n",
    "\n"
   ]
  },
  {
   "cell_type": "markdown",
   "metadata": {},
   "source": [
    "In Python, the same formula is used, making sure the result is in the range [0,100]."
   ]
  },
  {
   "cell_type": "code",
   "execution_count": 10,
   "metadata": {},
   "outputs": [],
   "source": [
    "# Function: Implementing the Hash Function in Python\n",
    "def simple_hash(s):\n",
    "\n",
    "    hashval =0\n",
    "    for char in s:\n",
    "        # Update hash value using the ASCII code of the character\n",
    "        hashval = (ord(char)+31* hashval) %101\n",
    "    return hashval"
   ]
  },
  {
   "cell_type": "code",
   "execution_count": 11,
   "metadata": {},
   "outputs": [
    {
     "name": "stdout",
     "output_type": "stream",
     "text": [
      "Test Case1: simple_hash('hello') = 17\n",
      "Test Case 2: simple_hash('world) = 34\n",
      "Test Case 3: simple_hash('test) = 86\n",
      "Test Case 4: simple_hash('') = 0\n",
      "✅ All test cases passed!\n"
     ]
    }
   ],
   "source": [
    "# Test Cases for simple_hash function\n",
    "\n",
    "# Test Case 1: \"hello\"\n",
    "result1 = simple_hash(\"hello\")\n",
    "print(\"Test Case1: simple_hash('hello') =\", result1)\n",
    "\n",
    "# Test Case 2: \"world\"\n",
    "result2 =simple_hash(\"world\")\n",
    "print(\"Test Case 2: simple_hash('world) =\", result2)\n",
    "\n",
    "# Test Case 3: \"test\"\n",
    "result3= simple_hash(\"test\")\n",
    "print(\"Test Case 3: simple_hash('test) =\", result3)\n",
    "\n",
    "# Test Case 4: Empty String\n",
    "result4 = simple_hash(\"\")\n",
    "print(\"Test Case 4: simple_hash('') =\", result4)\n",
    "\n",
    "\n",
    "#Automated testing using assert statements\n",
    "assert result1 == simple_hash('hello'), \"Test Case 1 Failed\"\n",
    "assert result2 == simple_hash('world'), \"Test Case 2 Failed\"\n",
    "assert result3 == simple_hash('test'), \"Test Case 3 Failed\"\n",
    "assert result4 == 0, \"Test Case 4 Failed\"\n",
    "\n",
    "print(\"✅ All test cases passed!\")"
   ]
  },
  {
   "cell_type": "markdown",
   "metadata": {},
   "source": [
    "I took the advantage of using Python by using some of the following features:\n",
    "- Looping directly over the string.\n",
    "- Converting each character to its ASCII value using `ord(char)`.\n",
    "- Used the same formula to update the hash value, making sure it remians within the range [0,100] by using the modulo operator.\n",
    "\n",
    "This translation of the code mainly maintains the core logic of the C implementation but uses python's simple way of processing strings.\n",
    "\n",
    "Overall, this tasks shows us how a low-level C algorithm can be used in Python."
   ]
  },
  {
   "cell_type": "markdown",
   "metadata": {},
   "source": [
    "# Task 3: SHA256 Padding\n",
    "\n",
    "## Introduction\n",
    "In this task we will implement a function that can calculate the SHA256 padding for a given file. Sha256 padding is important so we can make sure that the message length becomes a mulitple of 512 bits, as required by the SHA256 specification.\n",
    "\n",
    "The process involves:\n",
    "- Attaching a single '1' bit (represented as as `0x80` in hex).\n",
    "- Adding enough zero bits so that the total length macthes to 448 modulo 512.\n",
    "- Attaching the original message length as a 64 bit big-endian integer.\n",
    "\n",
    "We can see this procedure as specified in [NIST FIPS PUB 180-4](https://nvlpubs.nist.gov/nistpubs/FIPS/NIST.FIPS.180-4.pdf).\n",
    "\n",
    "*Additional References:*\n",
    "- [Wikipedia: SHA-2](https://en.wikipedia.org/wiki/SHA-2)\n",
    "- [GeeksForGeek: What is SHA256?](https://www.geeksforgeeks.org/difference-between-sha1-and-sha256/?ref=gcse_outind)\n",
    "\n"
   ]
  },
  {
   "cell_type": "markdown",
   "metadata": {},
   "source": [
    "## Padding Process Explained:\n",
    "The SHA 256 padding process works as follows:\n",
    "\n",
    "1. **Determine original message length:**\n",
    "calculate the length og the orginal message in bits.\n",
    "\n",
    "2. **Attach the '1' Bit:**\n",
    "Attach a single '1' bit to the message.\n",
    "\n",
    "3. **Attach Zero Bits:**\n",
    "Calculate and attach the needed number of zero bit so that the total length in bits of the message is 448 modulo 512.\n",
    "\n",
    "4. **Attach the message length**\n",
    "Attach the original message length as a 64 bit big-endian integer.\n"
   ]
  },
  {
   "cell_type": "code",
   "execution_count": 12,
   "metadata": {},
   "outputs": [],
   "source": [
    "def sha256_padding(file_path):\n",
    "\n",
    "    # Read the file as bytes\n",
    "    with open(file_path, 'rb') as f:\n",
    "        message =f.read()\n",
    "\n",
    "    # Calculate the original message length in bits\n",
    "    original_length_bits = len(message) * 8\n",
    "\n",
    "    # Attach the '1' bit to the message (0x80)\n",
    "    padding = b'\\x80'\n",
    "\n",
    "    # Calculate the number of zero bits thats needed\n",
    "    # add 8 bits as 0x80 = 8 bits\n",
    "    padding_length_bits = (448 - (original_length_bits + 8) % 512) % 512\n",
    "    padding_zero_bytes = padding_length_bits // 8\n",
    "\n",
    "    # Attach zero bytes\n",
    "    padding += b'\\x00' * padding_zero_bytes\n",
    "\n",
    "    # Attach the original length as a 64-bit big-endian integer\n",
    "    length_bytes = original_length_bits.to_bytes(8, 'big')\n",
    "    final_padding = padding + length_bytes\n",
    "\n",
    "    # Print the final padding in hexadecimal\n",
    "    hex_padding = ' '.join(f'{byte:02x}' for byte in final_padding)\n",
    "    print(hex_padding)\n",
    "    \n",
    "\n",
    "   \n"
   ]
  },
  {
   "cell_type": "markdown",
   "metadata": {},
   "source": [
    "## Testing `sha256_padding`\n",
    "Using [Bit Counter](https://lingojam.com/BitCounter) to check that the bits are being counted correctly."
   ]
  },
  {
   "cell_type": "code",
   "execution_count": 13,
   "metadata": {},
   "outputs": [
    {
     "name": "stdout",
     "output_type": "stream",
     "text": [
      "80 00 00 00 00 00 00 00 00 00 00 00 00 00 00 00 00 00 00 00 00 00 00 00 00 00 00 00 00 00 00 00 00 00 00 00 00 00 00 00 00 00 00 00 00 00 00 00 00 00 00 00 00 00 00 00 00 00 00 00 18\n"
     ]
    }
   ],
   "source": [
    "# Call function\n",
    "sha256_padding(\"sample.txt\")"
   ]
  },
  {
   "cell_type": "markdown",
   "metadata": {},
   "source": [
    "# Task 4: Prime Numbers\n",
    "\n",
    "## Introduction\n",
    "In this task we are going to find the first 100 prime numbers using two different methods:\n",
    "\n",
    "1. **Iterative Prime Checking:**\n",
    "This method checks if a number is prime by dividing it by the primes we already found. If it's not divisible by any of them then it's a prime.\n",
    "\n",
    "2. **Sieve of Eratotheenes:**\n",
    "\n",
    "\n",
    "*References:*\n",
    "- [Fundamental Theorem of Arithmetic (Wikipedia)](https://en.wikipedia.org/wiki/Fundamental_theorem_of_arithmetic)"
   ]
  },
  {
   "cell_type": "markdown",
   "metadata": {},
   "source": [
    "## Iterative Prime Checking Method\n",
    "This method finds primes by going trough numbers one by one.\n",
    "- So we check if a number can be divided by any of the primes we already found.\n",
    "- If it's not, its a prime.\n",
    "- We Keep doing this until we have 100 primes.\n",
    "\n",
    "This is a simple approach that works, but it's not the fastest."
   ]
  },
  {
   "cell_type": "markdown",
   "metadata": {},
   "source": [
    "### Check if n is prime by testing if it can be diveded with already found primes."
   ]
  },
  {
   "cell_type": "code",
   "execution_count": 14,
   "metadata": {},
   "outputs": [
    {
     "name": "stdout",
     "output_type": "stream",
     "text": [
      "is_prime(2, []): True\n",
      "is_prime(3, [2]): True\n",
      "is_prime(4, [2]): False\n",
      "is_prime(9, [2, 3]): False\n",
      "is_prime(11, [2, 3, 5, 7]): True\n"
     ]
    }
   ],
   "source": [
    "def is_prime(n, primes):\n",
    "\n",
    "    for p in primes:\n",
    "        if p * p > n:\n",
    "            break\n",
    "        if n % p == 0:\n",
    "            return False\n",
    "    return True\n",
    "\n",
    "# Test the is_prime function some examples    \n",
    "print(\"is_prime(2, []):\", is_prime(2, []))  \n",
    "print(\"is_prime(3, [2]):\", is_prime(3, [2]))   \n",
    "print(\"is_prime(4, [2]):\", is_prime(3, [1]))  \n",
    "print(\"is_prime(9, [2, 3]):\", is_prime(9, [2, 3]))  \n",
    "print(\"is_prime(11, [2, 3, 5, 7]):\", is_prime(11, [2, 3, 5, 7]))\n"
   ]
  },
  {
   "cell_type": "markdown",
   "metadata": {},
   "source": [
    "In the above outputs we verify the `is_prime` method\n",
    "- is_prime(2, []): 2 is a prime number\n",
    "- is_prime(3, [2]): 3 is a prime number\n",
    "- is_prime(4, [2]): 4 is not a prime number\n",
    "- is_prime(9, [2, 3]): 9 is not prime (9 is divisble by 3)\n",
    "- is_prime(11, [2, 3, 5, 7]): 11 is a prime"
   ]
  },
  {
   "cell_type": "markdown",
   "metadata": {},
   "source": [
    "### Generate the first 'limit' prime numbers using an iterative method"
   ]
  },
  {
   "cell_type": "code",
   "execution_count": 15,
   "metadata": {},
   "outputs": [],
   "source": [
    "def generate_primes_iterative(limit):\n",
    "    \n",
    "    primes = []\n",
    "    first_prime = 2  # Start from 2, the first prime number\n",
    "    while len(primes) < limit:\n",
    "        if is_prime(first_prime, primes):\n",
    "            primes.append(first_prime)\n",
    "        first_prime += 1\n",
    "    return primes"
   ]
  },
  {
   "cell_type": "code",
   "execution_count": 16,
   "metadata": {},
   "outputs": [
    {
     "name": "stdout",
     "output_type": "stream",
     "text": [
      "Iterative Method Primes: [2, 3, 5, 7, 11, 13, 17, 19, 23, 29, 31, 37, 41, 43, 47, 53, 59, 61, 67, 71, 73, 79, 83, 89, 97, 101, 103, 107, 109, 113, 127, 131, 137, 139, 149, 151, 157, 163, 167, 173, 179, 181, 191, 193, 197, 199, 211, 223, 227, 229, 233, 239, 241, 251, 257, 263, 269, 271, 277, 281, 283, 293, 307, 311, 313, 317, 331, 337, 347, 349, 353, 359, 367, 373, 379, 383, 389, 397, 401, 409, 419, 421, 431, 433, 439, 443, 449, 457, 461, 463, 467, 479, 487, 491, 499, 503, 509, 521, 523, 541]\n"
     ]
    }
   ],
   "source": [
    "# Generate the first 100 primes using the iterative method\n",
    "iterative_primes = generate_primes_iterative(100)\n",
    "print(\"Iterative Method Primes:\", iterative_primes)"
   ]
  },
  {
   "cell_type": "markdown",
   "metadata": {},
   "source": [
    "## Sieve of Eratosthenes Method\n",
    "Now instead of checking each number on by one, we can use this method which marks the multiples of each prime number so we don't have to check them later.\n",
    "\n",
    "Steps:\n",
    "1. Start with a list of numbers.\n",
    "2. Mark all multiples of 2 and then move to the next number and so on.\n",
    "3. Repeat until we have gone trough the list.\n",
    "4. The numbers that are not marked during the process are primes.\n",
    "\n",
    "This method is much faster when needing to sort trough a large number of primes."
   ]
  },
  {
   "cell_type": "markdown",
   "metadata": {},
   "source": [
    "### Generate prime numbers using Sieve of Eratosthenes until the 'limit'(100) is reached"
   ]
  },
  {
   "cell_type": "code",
   "execution_count": 17,
   "metadata": {},
   "outputs": [],
   "source": [
    "def generate_primes_sieve(limit):\n",
    "    \n",
    "    #Upper bound estimate to find atleast 100 primes\n",
    "    upper_bound = 600\n",
    "    is_prime = [True] * (upper_bound + 1)\n",
    "    is_prime[0] = is_prime[1] = False  # 0 and 1 are not primes\n",
    "\n",
    "    p = 2\n",
    "    while p * p <= upper_bound:\n",
    "        if is_prime[p]:\n",
    "            for i in range(p * p, upper_bound + 1, p):\n",
    "                is_prime[i] = False\n",
    "        p += 1\n",
    "    \n",
    "    primes = [i for i, flag in enumerate(is_prime) if flag]\n",
    "    return primes[:limit]\n"
   ]
  },
  {
   "cell_type": "code",
   "execution_count": 18,
   "metadata": {},
   "outputs": [
    {
     "name": "stdout",
     "output_type": "stream",
     "text": [
      "Sieve Method Primes: [2, 3, 5, 7, 11, 13, 17, 19, 23, 29, 31, 37, 41, 43, 47, 53, 59, 61, 67, 71, 73, 79, 83, 89, 97, 101, 103, 107, 109, 113, 127, 131, 137, 139, 149, 151, 157, 163, 167, 173, 179, 181, 191, 193, 197, 199, 211, 223, 227, 229, 233, 239, 241, 251, 257, 263, 269, 271, 277, 281, 283, 293, 307, 311, 313, 317, 331, 337, 347, 349, 353, 359, 367, 373, 379, 383, 389, 397, 401, 409, 419, 421, 431, 433, 439, 443, 449, 457, 461, 463, 467, 479, 487, 491, 499, 503, 509, 521, 523, 541]\n"
     ]
    }
   ],
   "source": [
    "# Generate the first 100 primes using the Sieve of Eratosthenes\n",
    "sieve_primes = generate_primes_sieve(100)\n",
    "print(\"Sieve Method Primes:\", sieve_primes)"
   ]
  },
  {
   "cell_type": "markdown",
   "metadata": {},
   "source": [
    "## Testing and Comparing Both methods\n",
    "\n",
    "We now will compare the outputs of the iterative and sieve methods. Both methods should produce the same list of the first 100 primes, this will ensure that both methods are implemented correctly"
   ]
  },
  {
   "cell_type": "code",
   "execution_count": 19,
   "metadata": {},
   "outputs": [
    {
     "name": "stdout",
     "output_type": "stream",
     "text": [
      "Iterative Method Primes:  [2, 3, 5, 7, 11, 13, 17, 19, 23, 29, 31, 37, 41, 43, 47, 53, 59, 61, 67, 71, 73, 79, 83, 89, 97, 101, 103, 107, 109, 113, 127, 131, 137, 139, 149, 151, 157, 163, 167, 173, 179, 181, 191, 193, 197, 199, 211, 223, 227, 229, 233, 239, 241, 251, 257, 263, 269, 271, 277, 281, 283, 293, 307, 311, 313, 317, 331, 337, 347, 349, 353, 359, 367, 373, 379, 383, 389, 397, 401, 409, 419, 421, 431, 433, 439, 443, 449, 457, 461, 463, 467, 479, 487, 491, 499, 503, 509, 521, 523, 541]\n",
      "Sieve Method Primes:  [2, 3, 5, 7, 11, 13, 17, 19, 23, 29, 31, 37, 41, 43, 47, 53, 59, 61, 67, 71, 73, 79, 83, 89, 97, 101, 103, 107, 109, 113, 127, 131, 137, 139, 149, 151, 157, 163, 167, 173, 179, 181, 191, 193, 197, 199, 211, 223, 227, 229, 233, 239, 241, 251, 257, 263, 269, 271, 277, 281, 283, 293, 307, 311, 313, 317, 331, 337, 347, 349, 353, 359, 367, 373, 379, 383, 389, 397, 401, 409, 419, 421, 431, 433, 439, 443, 449, 457, 461, 463, 467, 479, 487, 491, 499, 503, 509, 521, 523, 541]\n",
      "✅ Both methods generate the same list of 100 primes!\n"
     ]
    }
   ],
   "source": [
    "# Generate primes using both methods\n",
    "iterative_primes = generate_primes_iterative(100)\n",
    "sieve_primes = generate_primes_sieve(100)\n",
    "\n",
    "# Print both results\n",
    "print(\"Iterative Method Primes: \", iterative_primes)\n",
    "print(\"Sieve Method Primes: \", sieve_primes)\n",
    "\n",
    "# Compare the list using an assert statement\n",
    "assert iterative_primes == sieve_primes, \"Mismatch between both methods!\"\n",
    "print(\"✅ Both methods generate the same list of 100 primes!\")"
   ]
  },
  {
   "cell_type": "markdown",
   "metadata": {},
   "source": [
    "# Conclusion for Task 4\n",
    "In this task, we implement two different methods to generate prime numbers:\n",
    "- **Iterative Prime Checking:** A simple method that checks each number individually.\n",
    "- **Sieve of Eratosthenes:** A more efficient algorithm that marks multiples of each prime.\n",
    "\n",
    "Both methods generated the same list of the first 100 primes, this shows us that both methods work correctly. The sieve method is especially useful when a Large number of primes is needed due to its efficiency.\n",
    "\n",
    "*References:*\n",
    "- [Fundamental Theorem of Arithmetic (Wikipedia)](https://en.wikipedia.org/wiki/Fundamental_theorem_of_arithmetic)  \n",
    "- [Sieve of Eratosthenes (Wikipedia)](https://en.wikipedia.org/wiki/Sieve_of_Eratosthenes)\n",
    "- [GeeksforGeeks: Sieve of Eratosthenes in Python](https://www.geeksforgeeks.org/sieve-of-eratosthenes/)  \n",
    "  This article provides a clear explanation and Python code for the Sieve of Eratosthenes algorithm.\n"
   ]
  },
  {
   "cell_type": "markdown",
   "metadata": {},
   "source": [
    "# Task5: Roots\n",
    "\n",
    "### Overview\n",
    "In this task, we will calculate the first 32 bits of the fractional part of the square roots of the first 100 prime numbers. This involves:\n",
    "\n",
    "1. Generating the first 100 prime numbers - using the prime generation function from Task 4.\n",
    "2. For each prime, we compute its square root.\n",
    "3. We then extract the fractional part by subtracting the integer part.\n",
    "4. We then mulitply the fractional part by 2^32 to shift it into an integer representation.\n",
    "5. Finally we convert the integer to a 32-bit binary string.\n",
    "\n",
    "*References:*  \n",
    "- [Wikipedia: Square Root](https://en.wikipedia.org/wiki/Square_root)  \n",
    "- [Wikipedia: Binary Number](https://en.wikipedia.org/wiki/Binary_number)\n",
    "- [Python Documentation: Floating Point Arithmetic](https://docs.python.org/3/tutorial/floatingpoint.html)  \n",
    "  This section of the official Python documentation provides a detailed explanation of floating-point arithmetic in Python, which is useful for understanding how fractional parts are represented.\n",
    "\n"
   ]
  },
  {
   "cell_type": "markdown",
   "metadata": {},
   "source": [
    "# Generate the first 100 primes using the generate_primes_iterative function"
   ]
  },
  {
   "cell_type": "code",
   "execution_count": 20,
   "metadata": {},
   "outputs": [
    {
     "name": "stdout",
     "output_type": "stream",
     "text": [
      "First 100 primes:  [2, 3, 5, 7, 11, 13, 17, 19, 23, 29, 31, 37, 41, 43, 47, 53, 59, 61, 67, 71, 73, 79, 83, 89, 97, 101, 103, 107, 109, 113, 127, 131, 137, 139, 149, 151, 157, 163, 167, 173, 179, 181, 191, 193, 197, 199, 211, 223, 227, 229, 233, 239, 241, 251, 257, 263, 269, 271, 277, 281, 283, 293, 307, 311, 313, 317, 331, 337, 347, 349, 353, 359, 367, 373, 379, 383, 389, 397, 401, 409, 419, 421, 431, 433, 439, 443, 449, 457, 461, 463, 467, 479, 487, 491, 499, 503, 509, 521, 523, 541]\n"
     ]
    }
   ],
   "source": [
    "# Generate the first 100 primes using the iterative method from Task 4\n",
    "primes_100 = generate_primes_iterative(100)\n",
    "print(\"First 100 primes: \", primes_100)"
   ]
  },
  {
   "cell_type": "markdown",
   "metadata": {},
   "source": [
    "# Calculating Fractional Parts of Square Roots\n",
    "\n",
    "For each prime number, we will:\n",
    "1. Calculate its square root by using math.sqrt.\n",
    "2. Then we will extract the fractional part by subtracting the floor value which is the greatest integer that is less than or equal to that number.\n",
    "3. We then multiply the fractional part by 2^32 to get an integer.\n",
    "4. Finally, we convert the integer to a 32-bit binary string."
   ]
  },
  {
   "cell_type": "code",
   "execution_count": 21,
   "metadata": {},
   "outputs": [
    {
     "name": "stdout",
     "output_type": "stream",
     "text": [
      "Fractional bits for sqrt(2):  01101010000010011110011001100111\n"
     ]
    }
   ],
   "source": [
    "# Function to compute first bits of the fractional part of the square root of n\n",
    "def fractional_bits_of_sqrt(n, bits=32):\n",
    "    # Compute square root of n\n",
    "    sqrt_n = math.sqrt(n) \n",
    "\n",
    "    # Calculate the fractional part by subtracting the floor from sqrt_n\n",
    "    fractional_part = sqrt_n - math.floor(sqrt_n)\n",
    "\n",
    "    # multiply the fractional part by 2^ bits \n",
    "    fractional_int = int(fractional_part * (2 ** bits))\n",
    "\n",
    "    return format(fractional_int, f'0{bits}b')\n",
    "\n",
    "# Example test fpr a single prime\n",
    "print(\"Fractional bits for sqrt(2): \", fractional_bits_of_sqrt(2))\n"
   ]
  },
  {
   "cell_type": "markdown",
   "metadata": {},
   "source": [
    "## Applying the Fractional Bits Function\n",
    "\n",
    "We can now apply the `fractional_bits_of_sqrt` function to all 100 primes that were generated earlier. This will produce a 32-bit binary string for the fractional part of each prime's square root."
   ]
  },
  {
   "cell_type": "code",
   "execution_count": 22,
   "metadata": {},
   "outputs": [
    {
     "name": "stdout",
     "output_type": "stream",
     "text": [
      "Prime: 2, Fractional bits: 01101010000010011110011001100111\n",
      "Prime: 3, Fractional bits: 10111011011001111010111010000101\n",
      "Prime: 5, Fractional bits: 00111100011011101111001101110010\n",
      "Prime: 7, Fractional bits: 10100101010011111111010100111010\n",
      "Prime: 11, Fractional bits: 01010001000011100101001001111111\n",
      "Prime: 13, Fractional bits: 10011011000001010110100010001100\n",
      "Prime: 17, Fractional bits: 00011111100000111101100110101011\n",
      "Prime: 19, Fractional bits: 01011011111000001100110100011001\n",
      "Prime: 23, Fractional bits: 11001011101110111001110101011101\n",
      "Prime: 29, Fractional bits: 01100010100110100010100100101010\n",
      "Prime: 31, Fractional bits: 10010001010110010000000101011010\n",
      "Prime: 37, Fractional bits: 00010101001011111110110011011000\n",
      "Prime: 41, Fractional bits: 01100111001100110010011001100111\n",
      "Prime: 43, Fractional bits: 10001110101101000100101010000111\n",
      "Prime: 47, Fractional bits: 11011011000011000010111000001101\n",
      "Prime: 53, Fractional bits: 01000111101101010100100000011101\n",
      "Prime: 59, Fractional bits: 10101110010111111001000101010110\n",
      "Prime: 61, Fractional bits: 11001111011011001000010111010011\n",
      "Prime: 67, Fractional bits: 00101111011100110100011101111101\n",
      "Prime: 71, Fractional bits: 01101101000110000010011011001010\n",
      "Prime: 73, Fractional bits: 10001011010000111101010001010111\n",
      "Prime: 79, Fractional bits: 11100011011000001011010110010110\n",
      "Prime: 83, Fractional bits: 00011100010001010110000000000010\n",
      "Prime: 89, Fractional bits: 01101111000110010110001100110001\n",
      "Prime: 97, Fractional bits: 11011001010011101011111010110001\n",
      "Prime: 101, Fractional bits: 00001100110001001010011000010001\n",
      "Prime: 103, Fractional bits: 00100110000111011100000111110010\n",
      "Prime: 107, Fractional bits: 01011000000101011010011110111110\n",
      "Prime: 109, Fractional bits: 01110000101101111110110101100111\n",
      "Prime: 113, Fractional bits: 10100001010100010011110001101001\n",
      "Prime: 127, Fractional bits: 01000100111110010011011000110101\n",
      "Prime: 131, Fractional bits: 01110010000011011100110111111101\n",
      "Prime: 137, Fractional bits: 10110100011001110011011010011110\n",
      "Prime: 139, Fractional bits: 11001010001100100000101101110101\n",
      "Prime: 149, Fractional bits: 00110100111000001101010000101110\n",
      "Prime: 151, Fractional bits: 01001001110001111101100110111101\n",
      "Prime: 157, Fractional bits: 10000111101010111011100111110010\n",
      "Prime: 163, Fractional bits: 11000100011000111010001011111100\n",
      "Prime: 167, Fractional bits: 11101100001111111100001111110011\n",
      "Prime: 173, Fractional bits: 00100111001001110111111101101101\n",
      "Prime: 179, Fractional bits: 01100001000010111110101111110010\n",
      "Prime: 181, Fractional bits: 01110100001000001011010010011110\n",
      "Prime: 191, Fractional bits: 11010001111111011000101000110011\n",
      "Prime: 193, Fractional bits: 11100100011101110011010110010100\n",
      "Prime: 197, Fractional bits: 00001001001000011001011111110110\n",
      "Prime: 199, Fractional bits: 00011011010100110000110010010101\n",
      "Prime: 211, Fractional bits: 10000110100111010110001101000010\n",
      "Prime: 223, Fractional bits: 11101110111001010010111001001111\n",
      "Prime: 227, Fractional bits: 00010001000001110110011010001001\n",
      "Prime: 229, Fractional bits: 00100001111110111010001101111011\n",
      "Prime: 233, Fractional bits: 01000011101010111001111110110110\n",
      "Prime: 239, Fractional bits: 01110101101010011111100100011101\n",
      "Prime: 241, Fractional bits: 10000110001100000101000000011001\n",
      "Prime: 251, Fractional bits: 11010111110011011000000101110011\n",
      "Prime: 257, Fractional bits: 00000111111111100000000011111111\n",
      "Prime: 263, Fractional bits: 00110111100111110101000100111111\n",
      "Prime: 269, Fractional bits: 01100110101101100101000110101000\n",
      "Prime: 271, Fractional bits: 01110110010010101011100001000010\n",
      "Prime: 277, Fractional bits: 10100100101100000110101111100001\n",
      "Prime: 281, Fractional bits: 11000011010101111000110000010101\n",
      "Prime: 283, Fractional bits: 11010010100101100010101001010011\n",
      "Prime: 293, Fractional bits: 00011110000000111001111101000000\n",
      "Prime: 307, Fractional bits: 10000101011110110111101111101110\n",
      "Prime: 311, Fractional bits: 10100010100110111111001011011110\n",
      "Prime: 313, Fractional bits: 10110001000110100011001011101000\n",
      "Prime: 317, Fractional bits: 11001101111100110100111010000000\n",
      "Prime: 331, Fractional bits: 00110001100000110000010000100110\n",
      "Prime: 337, Fractional bits: 01011011100010010000100100101011\n",
      "Prime: 347, Fractional bits: 10100000110000000110101000010011\n",
      "Prime: 349, Fractional bits: 10101110011110011000010000101111\n",
      "Prime: 353, Fractional bits: 11001001110011011010011010001001\n",
      "Prime: 359, Fractional bits: 11110010100000011111001000111001\n",
      "Prime: 367, Fractional bits: 00101000010000010010010110010010\n",
      "Prime: 373, Fractional bits: 01010000001011100110010011011011\n",
      "Prime: 379, Fractional bits: 01110111110010011100001000010001\n",
      "Prime: 383, Fractional bits: 10010010000001001100110110011101\n",
      "Prime: 389, Fractional bits: 10111001000110111111011001100011\n",
      "Prime: 397, Fractional bits: 11101100110000111000110010011101\n",
      "Prime: 401, Fractional bits: 00000110011001010110000010010101\n",
      "Prime: 409, Fractional bits: 00111001010001111001001110000001\n",
      "Prime: 419, Fractional bits: 01111000001100000111011010010111\n",
      "Prime: 421, Fractional bits: 10000100101011100100101101111100\n",
      "Prime: 431, Fractional bits: 11000010101100101011011101010101\n",
      "Prime: 433, Fractional bits: 11001111000000111101001000001110\n",
      "Prime: 439, Fractional bits: 11110011110010111011000100010111\n",
      "Prime: 443, Fractional bits: 00001100001011010011101101001011\n",
      "Prime: 449, Fractional bits: 00110000100010101111000101100001\n",
      "Prime: 457, Fractional bits: 01100000101001111010100110011000\n",
      "Prime: 461, Fractional bits: 01111000100011011001100000010010\n",
      "Prime: 463, Fractional bits: 10000100011101101001101101000010\n",
      "Prime: 467, Fractional bits: 10011100001101001111000001100010\n",
      "Prime: 479, Fractional bits: 11100010110101010110010011000100\n",
      "Prime: 487, Fractional bits: 00010001011011010111010111111101\n",
      "Prime: 491, Fractional bits: 00101000100101001100000100000111\n",
      "Prime: 499, Fractional bits: 01010110100110110101100011000110\n",
      "Prime: 503, Fractional bits: 01101101011110110011100100111001\n",
      "Prime: 509, Fractional bits: 10001111100111111000110110111011\n",
      "Prime: 521, Fractional bits: 11010011010011110000001111001101\n",
      "Prime: 523, Fractional bits: 11011110100000110111001011101111\n",
      "Prime: 541, Fractional bits: 01000010011010000111101000111001\n"
     ]
    }
   ],
   "source": [
    "# Compute and print the 32-bit fractional parts for each prime in the first 100 primes\n",
    "fractional_bits_list = [(p, fractional_bits_of_sqrt(p)) for p in primes_100] \n",
    "\n",
    "for prime, bits in fractional_bits_list:\n",
    "    print(f\"Prime: {prime}, Fractional bits: {bits}\")"
   ]
  },
  {
   "cell_type": "markdown",
   "metadata": {},
   "source": [
    "## Explanation of `fractional_bits_of_sqrt` Function"
   ]
  }
 ],
 "metadata": {
  "kernelspec": {
   "display_name": "Python 3",
   "language": "python",
   "name": "python3"
  },
  "language_info": {
   "codemirror_mode": {
    "name": "ipython",
    "version": 3
   },
   "file_extension": ".py",
   "mimetype": "text/x-python",
   "name": "python",
   "nbconvert_exporter": "python",
   "pygments_lexer": "ipython3",
   "version": "3.12.1"
  }
 },
 "nbformat": 4,
 "nbformat_minor": 2
}
