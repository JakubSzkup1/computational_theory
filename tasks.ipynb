{
 "cells": [
  {
   "cell_type": "code",
   "execution_count": 1,
   "metadata": {},
   "outputs": [],
   "source": [
    "import numpy as np\n",
    "import matplotlib.pyplot as plt"
   ]
  },
  {
   "cell_type": "markdown",
   "metadata": {},
   "source": [
    "## Task1: Binary Representations\n",
    "\n",
    "## Introduction\n",
    "Binary representations are fundamental when it comes to computing and cryptography. Many cryptographic has functions such as **SHA-256** use bitwise operations. Bitwise operations such as rotations and logical functions process data efficiently this way. \n",
    "\n",
    "this task implements:\n",
    "- **Left Rotation (`rotl`)**\n",
    "- **Right Rotation (`rotr`)**\n",
    "- **Bitwise Choice (`ch`)**\n",
    "- **Bitwise Majority (`maj`)**\n",
    "\n",
    "These operations are often used in **hash functions and encryption algorithms** ([Bitwise Operators in Python](https://wiki.python.org/moin/BitwiseOperators)).\n",
    "\n",
    "\n",
    "\n"
   ]
  },
  {
   "cell_type": "markdown",
   "metadata": {},
   "source": []
  },
  {
   "cell_type": "markdown",
   "metadata": {},
   "source": []
  }
 ],
 "metadata": {
  "kernelspec": {
   "display_name": "Python 3",
   "language": "python",
   "name": "python3"
  },
  "language_info": {
   "codemirror_mode": {
    "name": "ipython",
    "version": 3
   },
   "file_extension": ".py",
   "mimetype": "text/x-python",
   "name": "python",
   "nbconvert_exporter": "python",
   "pygments_lexer": "ipython3",
   "version": "3.12.1"
  }
 },
 "nbformat": 4,
 "nbformat_minor": 2
}
