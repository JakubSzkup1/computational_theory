{
 "cells": [
  {
   "cell_type": "code",
   "execution_count": 1,
   "metadata": {},
   "outputs": [
    {
     "name": "stderr",
     "output_type": "stream",
     "text": [
      "[nltk_data] Downloading package wordnet to\n",
      "[nltk_data]     /home/codespace/nltk_data...\n",
      "[nltk_data]   Package wordnet is already up-to-date!\n"
     ]
    }
   ],
   "source": [
    "import numpy as np\n",
    "import matplotlib.pyplot as plt\n",
    "import math\n",
    "import hashlib\n",
    "import nltk\n",
    "nltk.download('wordnet')\n",
    "from nltk.corpus import wordnet\n"
   ]
  },
  {
   "cell_type": "markdown",
   "metadata": {},
   "source": [
    "## Task1: Binary Representations\n",
    "\n",
    "## Introduction\n",
    "Binary representations are fundamental when it comes to computing and cryptography. Many cryptographic has functions such as **SHA-256** use bitwise operations. Bitwise operations such as rotations and logical functions process data efficiently this way. \n",
    "\n",
    "This task implements:\n",
    "- **Left Rotation (`rotl`)**\n",
    "- **Right Rotation (`rotr`)**\n",
    "- **Bitwise Choice (`ch`)**\n",
    "- **Bitwise Majority (`maj`)**\n",
    "\n",
    "These operations are often used in **hash functions and encryption algorithms** ([Bitwise Operators in Python](https://wiki.python.org/moin/BitwiseOperators))."
   ]
  },
  {
   "cell_type": "markdown",
   "metadata": {},
   "source": [
    "## Left Rotation (`rotl`)\n",
    "\n",
    "### Formula: \n",
    "The left rotation of a 32-bit unsigned integer `x` by `n` positions is defined as:"
   ]
  },
  {
   "cell_type": "code",
   "execution_count": 2,
   "metadata": {},
   "outputs": [],
   "source": [
    "# Function: Rotate Left (rotl)\n",
    "def rotl(x, n=1):\n",
    "    \n",
    "    return ((x << n) | (x >> (32 - n))) &0xFFFFFFFF"
   ]
  },
  {
   "cell_type": "code",
   "execution_count": 3,
   "metadata": {},
   "outputs": [
    {
     "name": "stdout",
     "output_type": "stream",
     "text": [
      "Test Case 1: rotl(0x00000001, 1) = 0x2\n",
      "Test Case 2: rotl(0x80000000, 1) = 0x1\n",
      "Test Case 3: rotl(0x12345678, 4) = 0x23456781\n",
      "✅All test cases passed!\n"
     ]
    }
   ],
   "source": [
    "# Test Case 1\n",
    "result1 = rotl(0x00000001, 1)\n",
    "print(\"Test Case 1: rotl(0x00000001, 1) =\", hex(result1))  # Expected: 0x2\n",
    "\n",
    "# Test Case 2\n",
    "result2 = rotl(0x80000000, 1)\n",
    "print(\"Test Case 2: rotl(0x80000000, 1) =\", hex(result2))  # Expected: 0x1\n",
    "\n",
    "# Test Case 3\n",
    "result3 = rotl(0x12345678, 4)\n",
    "print(\"Test Case 3: rotl(0x12345678, 4) =\", hex(result3))  # Expected: 0x23456781\n",
    "\n",
    "assert result1 == 0x2, \"Test Case 1 Failed\"\n",
    "assert result2 == 0x1, \"Test Case 2 Failed\"\n",
    "assert result3 == 0x23456781, \"Test Case 3 Failed\"\n",
    "\n",
    "print(\"✅All test cases passed!\")"
   ]
  },
  {
   "cell_type": "markdown",
   "metadata": {},
   "source": [
    "**Explanation:**\n",
    "- **`x << n`**: This shifts the bits in `x` to the left by `n` places. Bits that move past the left end are normally dropped.\n",
    "- **`x >> (32 - n)`**: This shifts the bits in `x` to the right by `32 - n` places. This brings in the bits that were dropped from the left.\n",
    "- **Bitwise OR (`|`)**: This combines the two shifted values, effectively wrapping the dropped bits around to the right.\n",
    "- **Bitwise AND (`& 0xFFFFFFFF`)**: This makes sure the result remains a 32-bit number.\n",
    "\n",
    "**Reference:**\n",
    "This method is commonly used for bit manipulation in programming. For more information on bitwise operations in Python, [Python Bitwise Operators Documentation](https://docs.python.org/3/library/stdtypes.html#bitwise-operators)."
   ]
  },
  {
   "cell_type": "markdown",
   "metadata": {},
   "source": [
    "## Right Rotation (`rotr`)\n",
    "\n",
    "### Formula:\n",
    "The right rotation of a 32-bit unsigned integer x by n positions is defined as:"
   ]
  },
  {
   "cell_type": "code",
   "execution_count": 4,
   "metadata": {},
   "outputs": [],
   "source": [
    "# Function: Rotate Right (rotr)\n",
    "def rotr(x, n=1):\n",
    "\n",
    "    return ((x >> n) | (x << (32 -n))) & 0xFFFFFFFF"
   ]
  },
  {
   "cell_type": "code",
   "execution_count": 5,
   "metadata": {},
   "outputs": [
    {
     "name": "stdout",
     "output_type": "stream",
     "text": [
      "Test Case 1: rotr(0x00000002, 1) = 0x1\n",
      "Test case 2: rotr(0x00000001, 1) = 0x80000000\n",
      "Test case 3: rotr (0x1234567, 4) = 0x81234567\n",
      "✅All test cases passed!\n"
     ]
    }
   ],
   "source": [
    "# Test case 1\n",
    "result1 =rotr(0x00000002, 1)\n",
    "print(\"Test Case 1: rotr(0x00000002, 1) =\", hex(result1)) # Expected: 0x1\n",
    "\n",
    "# Test case 2\n",
    "result2 =rotr(0x00000001, 1)\n",
    "print(\"Test case 2: rotr(0x00000001, 1) =\", hex(result2)) # Expected: 0x80000000\n",
    "\n",
    "# Test case 3\n",
    "result3 =rotr(0x12345678, 4)\n",
    "print(\"Test case 3: rotr (0x1234567, 4) =\", hex(result3)) #Expected: 0x81234567\n",
    "\n",
    "assert result1 == 0x1, \"Test case 1 Failed\"\n",
    "assert result2 == 0x80000000, \"Test case 2 Failed\"\n",
    "assert result3 == 0x81234567, \"Test Case 3 Failed\"\n",
    "\n",
    "print(\"✅All test cases passed!\")"
   ]
  },
  {
   "cell_type": "markdown",
   "metadata": {},
   "source": [
    "**Explanation:**\n",
    "- **`x >> n`**: This shifts the bits in `x` to the by `n` places. This drops the n bits furthest to the right.\n",
    "- **`x << (32 -n)`**: This shifts the bits in `x` to the left by `(32 -n)` places, moving the bits that would be dropped from the right to the position furthest to the left.\n",
    "- **Bitwise OR `(|)`**: This combines the two shifted values, effectively wrapping the bits that fell of on the right back to the left.\n",
    "- **Bitwise AND `(& 0xFFFFFFFF)`**: This ensures that the final result is limited to 32 bits.\n",
    "\n",
    "**Reference:** \n",
    "This method is commonly used for bit manipulation in programming. For more information, check out:\n",
    "\n",
    "- [Python Bitwise Operators Documentation](https://docs.python.org/3/library/stdtypes.html#bitwise-operators)  \n",
    "- [GeeksforGeeks: Python Bitwise Operators](https://www.geeksforgeeks.org/python-bitwise-operators/)  \n",
    "- [Real Python: Bitwise Operators in Python](https://realpython.com/python-bitwise-operators/)"
   ]
  },
  {
   "cell_type": "markdown",
   "metadata": {},
   "source": [
    "## Bitwise Choice (`ch`)\n",
    "\n",
    "### Formula:\n",
    "The bitwise choice function selects bits from `y` where the corresponding bit in `x` is 1, and then from `z` where the corresponding bit in `x` is 0. It is defines as:"
   ]
  },
  {
   "cell_type": "code",
   "execution_count": 6,
   "metadata": {},
   "outputs": [],
   "source": [
    "# Function: Choose (ch)\n",
    "def ch(x, y, z):\n",
    "\n",
    "    return ((x & y) ^ (~x & z)) & 0xFFFFFFFF"
   ]
  },
  {
   "cell_type": "code",
   "execution_count": null,
   "metadata": {},
   "outputs": [
    {
     "name": "stdout",
     "output_type": "stream",
     "text": [
      "Test case 1: ch(0b1100, 0b1010, 0b0110) = 0b1010\n",
      "Test case 2: ch(0xFFFFFFFF, 0x12345678, 0x9ABCDEF0) = 0x12345678\n",
      "Test case 3: ch(0x0, 0x12345678, 0x9ABCDEF0) = 0x9abcdef0\n",
      "✅All test cases passed!\n"
     ]
    }
   ],
   "source": [
    "# Test Case 1:\n",
    "# For x = 0b1100, y = 0b1010, z = 0b0110:\n",
    "# Calculation: (0b1100 & 0b1010) = 0b1000, (~0b1100 & 0b0110) = 0b0110, then 0b1000 ^ 0b0110 = 0b1010\n",
    "result1 = ch(0b1100, 0b1010, 0b0110)\n",
    "print(\"Test case 1: ch(0b1100, 0b1010, 0b0110) =\", bin(result1)) # Expected: 0b1010\n",
    "\n",
    "# Test Case 2:\n",
    "# For x = 0xFFFFFFFF (all bits 1), y = 0x12345678, z = 0x9ABCDEF0:\n",
    "result2 = ch(0xFFFFFFFF, 0x12345678, 0x9ABCDEF0)\n",
    "print(\"Test case 2: ch(0xFFFFFFFF, 0x12345678, 0x9ABCDEF0) =\", hex(result2))  # Expected: 0x12345678\n",
    "\n",
    "# Test Case 3:\n",
    "# For x = 0x0 (all bits 0), y = 0x12345678, z = 0x9ABCDEF0:\n",
    "result3 = ch(0x0, 0x12345678, 0x9ABCDEF0)\n",
    "print(\"Test case 3: ch(0x0, 0x12345678, 0x9ABCDEF0) =\", hex(result3)) # Expected: 0x9abcdef0\n",
    "\n",
    "#Automated Tests\n",
    "assert result1 == 0b1010, \"Test Case 1 Failed\"\n",
    "assert result2 == 0x12345678, \"Test Case 2 Failed\"\n",
    "assert result3 == 0x9ABCDEF0, \"Test Case 3 Failed\"\n",
    "\n",
    "print(\"✅All test cases passed!\")"
   ]
  },
  {
   "cell_type": "markdown",
   "metadata": {},
   "source": [
    "### Explanation:\n",
    "- **`x & y`**: this extracts bits from `y` at positions where `x` has a 1.\n",
    "- **`~x & z`**: This extracts bits from `z` at positions where `x` has a 0.\n",
    "- **Bitwise XOR (`^`)**: This combines the two parts to form the final result.\n",
    "- **Bitwise AND with `0xFFFFFFFF`**: This ensures that the output is limited to a 32-bit unsigned integer.\n",
    "\n",
    "### References:\n",
    "- [Python Bitwise Operators Documentation](https://docs.python.org/3/library/stdtypes.html#bitwise-operators)\n",
    "- [GeeksforGeeks: Python Bitwise Operators](https://www.geeksforgeeks.org/python-bitwise-operators/)\n",
    "- [Real Python: Bitwise Operators in Python](https://realpython.com/python-bitwise-operators/)"
   ]
  },
  {
   "cell_type": "markdown",
   "metadata": {},
   "source": [
    "## Majority Function (`maj`)\n",
    "\n",
    "### Formula:\n",
    "The `maj` function calculates the majority of the bits in `x`, `y`, and `z`. For each bit position it determines if at least two of the three values have a `1`, if so the result has a `1` in that position, otherwise it has a `0`."
   ]
  },
  {
   "cell_type": "code",
   "execution_count": null,
   "metadata": {},
   "outputs": [],
   "source": [
    "# Function: Majority (maj)\n",
    "def maj(x, y, z):\n",
    "\n",
    "    return  ((x & y) ^ (x & z) ^ (y & z)) & 0xFFFFFFFF"
   ]
  },
  {
   "cell_type": "code",
   "execution_count": null,
   "metadata": {},
   "outputs": [
    {
     "name": "stdout",
     "output_type": "stream",
     "text": [
      "Test Case 1: maj(0xAAAAAAAA, 0xAAAAAAAA, 0xAAAAAAAA) = 0xaaaaaaaa\n",
      "Test Case 2: maj(0xFFFFFFFF, 0xFFFFFFFF,0x00000000) = 0xffffffff\n",
      "Test Case 3: maj(0x00000000, 0x00000000, 0xFFFFFFFF) = 0x0\n",
      "Test Case 4: maj(0b1010, 0b1100, 0b1001) = 0b1000\n",
      "✅All test cases passed!\n"
     ]
    }
   ],
   "source": [
    "# Test Case 1\n",
    "# All inputs are the same\n",
    "# So if x, y, and z are identical, maj (x, y, z) should then return the same value\n",
    "result1 = maj(0xAAAAAAAA, 0xAAAAAAAA, 0xAAAAAAAA)\n",
    "print(\"Test Case 1: maj(0xAAAAAAAA, 0xAAAAAAAA, 0xAAAAAAAA) =\", hex(result1)) #Expected: 0xAAAAAAAA\n",
    "\n",
    "# Test Case 2\n",
    "# Two inputs are all 1s and one is all 0s\n",
    "# So if two inputs have all bits set (0xFFFFFFFF) and one has none (0xFFFFFFFF), the result should be 0xFFFFFFFF\n",
    "result2 = maj(0xFFFFFFFF, 0xFFFFFFFF,0x00000000)\n",
    "print(\"Test Case 2: maj(0xFFFFFFFF, 0xFFFFFFFF,0x00000000) =\", hex(result2)) #Expected: 0xFFFFFFFF\n",
    "\n",
    "# Test Case 3\n",
    "# Two inputs are 0s and one is all 1s\n",
    "# So if two inputs are 0x00000000  and one is 0xFFFFFFFF, this means the majority should be 0x00000000\n",
    "result3 = maj(0x00000000, 0x00000000, 0xFFFFFFFF)\n",
    "print(\"Test Case 3: maj(0x00000000, 0x00000000, 0xFFFFFFFF) =\", hex(result3)) #Expected: 0x00000000\n",
    "\n",
    "#Test Case 4:\n",
    "# Randomly mixed inputs\n",
    "# So for example: x = 0b1010, y = 0b1100, z = 0b1001\n",
    "# The expected ouput should then be 0b1000 as atleast two of the inputs have 1 in the highest postion\n",
    "result4 = maj(0b1010, 0b1100, 0b1001)\n",
    "print(\"Test Case 4: maj(0b1010, 0b1100, 0b1001) =\", bin(result4)) #Expected: 0b1000\n",
    "\n",
    "#Automated Tests\n",
    "assert result1 == 0xAAAAAAAA, \"Test Case 1 Failed\"\n",
    "assert result2 == 0xFFFFFFFF, \"Test Case 2 Failed\"\n",
    "assert result3 == 0x00000000, \"Test Case 3 Failed\"\n",
    "assert result4 == 0b1000, \"Test Case 4 Failed\"\n",
    "\n",
    "print(\"✅All test cases passed!\")"
   ]
  },
  {
   "cell_type": "markdown",
   "metadata": {},
   "source": [
    "### Explanation:\n",
    "- **`x & y`**: Takes bits where both `x` and `y` have a `1`.\n",
    "- **`x & z`**: Takes bits where both `x` and `z` have a `1`.\n",
    "- **`y & z`**: Takes bits where both `y` and `z` have a `1`.\n",
    "- **Bitwise XOR (`^`)**: This combines these values to make sure that a bit is set to `1` but only when at least two of `x`, `y`, and `z` have a `1`.\n",
    "- **Bitwise AND (`& 0xFFFFFFFF`)**: This makes sure the result is limited to a 32-bit unsigned integer \n",
    "\n",
    "### References:\n",
    "- [Python Bitwise Operators Documentation](https://docs.python.org/3/library/stdtypes.html#bitwise-operators)"
   ]
  },
  {
   "cell_type": "markdown",
   "metadata": {},
   "source": [
    "# Task 2: Hash Functions\n",
    "\n",
    "## Introduction\n",
    "\n",
    "In this task, we will convert a simple hash function from C into Python. The original C function (from *The C Programming Language* by Kernighan & Ritchie) computes a hash value for a given string using multiplication and modulo arithmetic. The goal in this task is to translate this given logic into Python, so we can verify its correctness with some test cases.\n",
    "\n",
    "The original C function is:\n",
    "```c\n",
    "unsigned hash(char *s) {\n",
    "    unsigned hashval;\n",
    "    for (hashval = 0; *s != '\\0'; s++)\n",
    "        hashval = *s + 31 * hashval;\n",
    "    return hashval % 101;\n",
    "}"
   ]
  },
  {
   "cell_type": "markdown",
   "metadata": {},
   "source": [
    "## Converting the Hash Function from C to Python\n",
    "\n",
    "### Key Differences:\n",
    "- **Data Types:**\n",
    "C uses fixed-sized integers for example, `unsigned int`.\n",
    "Python however uses arbitrary precision integers.\n",
    "\n",
    "- **String Handling:**\n",
    "In C Programming, string are processes with pointer arithmetic.\n",
    "In python strings are iterable and can be looped over directly.\n",
    "\n",
    "- **Character Conversion:**\n",
    "Characters in C are inherently integers and in Python we have to convert characters to their ASCII values using `ord(char)`.\n",
    "\n",
    "- **Looping:**\n",
    "C loops through the string by using pointers and Python simply iterates over the string.\n",
    "\n",
    "\n",
    "### The Hash Update Formula:\n",
    "So in C, the update is done with:\n",
    "```c\n",
    "hashval = (ord(char) + 31 * previous_hashval) % 101;"
   ]
  },
  {
   "cell_type": "markdown",
   "metadata": {},
   "source": [
    "In Python, the same formula is used, making sure the result is in the range [0,100]."
   ]
  },
  {
   "cell_type": "code",
   "execution_count": 10,
   "metadata": {},
   "outputs": [],
   "source": [
    "# Function: Implementing the Hash Function in Python\n",
    "def simple_hash(s):\n",
    "\n",
    "    hashval =0\n",
    "    for char in s:\n",
    "        # Update hash value using the ASCII code of the character\n",
    "        hashval = (ord(char)+31* hashval) %101\n",
    "    return hashval"
   ]
  },
  {
   "cell_type": "code",
   "execution_count": 11,
   "metadata": {},
   "outputs": [
    {
     "name": "stdout",
     "output_type": "stream",
     "text": [
      "Test Case1: simple_hash('hello') = 17\n",
      "Test Case 2: simple_hash('world) = 34\n",
      "Test Case 3: simple_hash('test) = 86\n",
      "Test Case 4: simple_hash('') = 0\n",
      "✅ All test cases passed!\n"
     ]
    }
   ],
   "source": [
    "# Test Cases for simple_hash function\n",
    "\n",
    "# Test Case 1: \"hello\"\n",
    "result1 = simple_hash(\"hello\")\n",
    "print(\"Test Case1: simple_hash('hello') =\", result1)\n",
    "\n",
    "# Test Case 2: \"world\"\n",
    "result2 =simple_hash(\"world\")\n",
    "print(\"Test Case 2: simple_hash('world) =\", result2)\n",
    "\n",
    "# Test Case 3: \"test\"\n",
    "result3= simple_hash(\"test\")\n",
    "print(\"Test Case 3: simple_hash('test) =\", result3)\n",
    "\n",
    "# Test Case 4: Empty String\n",
    "result4 = simple_hash(\"\")\n",
    "print(\"Test Case 4: simple_hash('') =\", result4)\n",
    "\n",
    "\n",
    "#Automated testing using assert statements\n",
    "assert result1 == simple_hash('hello'), \"Test Case 1 Failed\"\n",
    "assert result2 == simple_hash('world'), \"Test Case 2 Failed\"\n",
    "assert result3 == simple_hash('test'), \"Test Case 3 Failed\"\n",
    "assert result4 == 0, \"Test Case 4 Failed\"\n",
    "\n",
    "print(\"✅ All test cases passed!\")"
   ]
  },
  {
   "cell_type": "markdown",
   "metadata": {},
   "source": [
    "I took the advantage of using Python by using some of the following features:\n",
    "- Looping directly over the string.\n",
    "- Converting each character to its ASCII value using `ord(char)`.\n",
    "- Used the same formula to update the hash value, making sure it remains within the range [0,100] by using the modulo operator.\n",
    "\n",
    "This translation of the code mainly maintains the core logic of the C implementation but uses python's simple way of processing strings.\n",
    "\n",
    "Overall, this tasks shows us how a low-level C algorithm can be used in Python."
   ]
  },
  {
   "cell_type": "markdown",
   "metadata": {},
   "source": [
    "# Task 3: SHA256 Padding\n",
    "\n",
    "## Introduction\n",
    "In this task we will implement a function that can calculate the SHA256 padding for a given file. Sha256 padding is important, so we can make sure that the message length becomes a multiple of 512 bits, as required by the SHA256 specification.\n",
    "\n",
    "The process involves:\n",
    "- Attaching a single '1' bit (represented as `0x80` in hex).\n",
    "- Adding enough zero bits so that the total length matches to 448 modulo 512.\n",
    "- Attaching the original message length as a 64-bit big-endian integer.\n",
    "\n",
    "We can see this procedure as specified in [NIST FIPS PUB 180-4](https://nvlpubs.nist.gov/nistpubs/FIPS/NIST.FIPS.180-4.pdf).\n",
    "\n",
    "*Additional References:*\n",
    "- [Wikipedia: SHA-2](https://en.wikipedia.org/wiki/SHA-2)\n",
    "- [GeeksForGeek: What is SHA256?](https://www.geeksforgeeks.org/difference-between-sha1-and-sha256/?ref=gcse_outind)"
   ]
  },
  {
   "cell_type": "markdown",
   "metadata": {},
   "source": [
    "## Padding Process Explained:\n",
    "The SHA 256 padding process works as follows:\n",
    "\n",
    "1. **Determine original message length:**\n",
    "calculate the length of the original message in bits.\n",
    "\n",
    "2. **Attach the '1' Bit:**\n",
    "Attach a single '1' bit to the message.\n",
    "\n",
    "3. **Attach Zero Bits:**\n",
    "Calculate and attach the needed number of zero bit so that the total length in bits of the message is 448 modulo 512.\n",
    "\n",
    "4. **Attach the message length**\n",
    "Attach the original message length as a 64-bit big-endian integer."
   ]
  },
  {
   "cell_type": "code",
   "execution_count": null,
   "metadata": {},
   "outputs": [],
   "source": [
    "def sha256_padding(file_path):\n",
    "\n",
    "    # Read the file as bytes\n",
    "    with open(file_path, 'rb') as f:\n",
    "        message =f.read()\n",
    "\n",
    "    # Calculate the original message length in bits\n",
    "    original_length_bits = len(message) * 8\n",
    "\n",
    "    # Attach the '1' bit to the message (0x80)\n",
    "    padding = b'\\x80'\n",
    "\n",
    "    # Calculate the number of zero bits thats needed\n",
    "    # add 8 bits as 0x80 = 8 bits\n",
    "    padding_length_bits = (448 - (original_length_bits + 8) % 512) % 512\n",
    "    padding_zero_bytes = padding_length_bits // 8\n",
    "\n",
    "    # Attach zero bytes\n",
    "    padding += b'\\x00' * padding_zero_bytes\n",
    "\n",
    "    # Attach the original length as a 64-bit big-endian integer\n",
    "    length_bytes = original_length_bits.to_bytes(8, 'big')\n",
    "    final_padding = padding + length_bytes\n",
    "\n",
    "    # Print the final padding in hexadecimal\n",
    "    hex_padding = ' '.join(f'{byte:02x}' for byte in final_padding)\n",
    "    print(hex_padding)"
   ]
  },
  {
   "cell_type": "markdown",
   "metadata": {},
   "source": [
    "## Testing `sha256_padding`\n",
    "Using [Bit Counter](https://lingojam.com/BitCounter) to check that the bits are being counted correctly."
   ]
  },
  {
   "cell_type": "code",
   "execution_count": 13,
   "metadata": {},
   "outputs": [
    {
     "name": "stdout",
     "output_type": "stream",
     "text": [
      "80 00 00 00 00 00 00 00 00 00 00 00 00 00 00 00 00 00 00 00 00 00 00 00 00 00 00 00 00 00 00 00 00 00 00 00 00 00 00 00 00 00 00 00 00 00 00 00 00 00 00 00 00 00 00 00 00 00 00 00 18\n"
     ]
    }
   ],
   "source": [
    "# Call function\n",
    "sha256_padding(\"sample.txt\")"
   ]
  },
  {
   "cell_type": "markdown",
   "metadata": {},
   "source": [
    "# Task 4: Prime Numbers\n",
    "\n",
    "## Introduction\n",
    "In this task we are going to find the first 100 prime numbers using two different methods:\n",
    "\n",
    "1. **Iterative Prime Checking:**\n",
    "This method checks if a number is prime by dividing it by the primes we already found. If it's not divisible by any of them then it's a prime.\n",
    "\n",
    "2. **Sieve of Eratothenes:**\n",
    "\n",
    "*References:*\n",
    "- [Fundamental Theorem of Arithmetic (Wikipedia)](https://en.wikipedia.org/wiki/Fundamental_theorem_of_arithmetic)"
   ]
  },
  {
   "cell_type": "markdown",
   "metadata": {},
   "source": [
    "## Iterative Prime Checking Method\n",
    "This method finds primes by going through numbers one by one.\n",
    "- So we check if a number can be divided by any of the primes we already found.\n",
    "- If it's not, it's a prime.\n",
    "- We Keep doing this until we have 100 primes.\n",
    "\n",
    "This is a simple approach that works, but it's not the fastest."
   ]
  },
  {
   "cell_type": "markdown",
   "metadata": {},
   "source": [
    "### Check if n is prime by testing if it can be diveded with already found primes."
   ]
  },
  {
   "cell_type": "code",
   "execution_count": null,
   "metadata": {},
   "outputs": [
    {
     "name": "stdout",
     "output_type": "stream",
     "text": [
      "is_prime(2, []): True\n",
      "is_prime(3, [2]): True\n",
      "is_prime(4, [2]): False\n",
      "is_prime(9, [2, 3]): False\n",
      "is_prime(11, [2, 3, 5, 7]): True\n"
     ]
    }
   ],
   "source": [
    "def is_prime(n, primes):\n",
    "\n",
    "    for p in primes:\n",
    "        if p * p > n:\n",
    "            break\n",
    "        if n % p == 0:\n",
    "            return False\n",
    "    return True\n",
    "\n",
    "# Test the is_prime function some examples    \n",
    "print(\"is_prime(2, []):\", is_prime(2, []))  \n",
    "print(\"is_prime(3, [2]):\", is_prime(3, [2]))   \n",
    "print(\"is_prime(4, [2]):\", is_prime(3, [1]))  \n",
    "print(\"is_prime(9, [2, 3]):\", is_prime(9, [2, 3]))  \n",
    "print(\"is_prime(11, [2, 3, 5, 7]):\", is_prime(11, [2, 3, 5, 7]))"
   ]
  },
  {
   "cell_type": "markdown",
   "metadata": {},
   "source": [
    "In the above outputs we verify the `is_prime` method\n",
    "- is_prime(2, []): 2 is a prime number\n",
    "- is_prime(3, [2]): 3 is a prime number\n",
    "- is_prime(4, [2]): 4 is not a prime number\n",
    "- is_prime(9, [2, 3]): 9 is not prime (9 is divisible by 3)\n",
    "- is_prime(11, [2, 3, 5, 7]): 11 is a prime"
   ]
  },
  {
   "cell_type": "markdown",
   "metadata": {},
   "source": [
    "### Generate the first 'limit' prime numbers using an iterative method"
   ]
  },
  {
   "cell_type": "code",
   "execution_count": 15,
   "metadata": {},
   "outputs": [],
   "source": [
    "def generate_primes_iterative(limit):\n",
    "    \n",
    "    primes = []\n",
    "    first_prime = 2  # Start from 2, the first prime number\n",
    "    while len(primes) < limit:\n",
    "        if is_prime(first_prime, primes):\n",
    "            primes.append(first_prime)\n",
    "        first_prime += 1\n",
    "    return primes"
   ]
  },
  {
   "cell_type": "code",
   "execution_count": 16,
   "metadata": {},
   "outputs": [
    {
     "name": "stdout",
     "output_type": "stream",
     "text": [
      "Iterative Method Primes: [2, 3, 5, 7, 11, 13, 17, 19, 23, 29, 31, 37, 41, 43, 47, 53, 59, 61, 67, 71, 73, 79, 83, 89, 97, 101, 103, 107, 109, 113, 127, 131, 137, 139, 149, 151, 157, 163, 167, 173, 179, 181, 191, 193, 197, 199, 211, 223, 227, 229, 233, 239, 241, 251, 257, 263, 269, 271, 277, 281, 283, 293, 307, 311, 313, 317, 331, 337, 347, 349, 353, 359, 367, 373, 379, 383, 389, 397, 401, 409, 419, 421, 431, 433, 439, 443, 449, 457, 461, 463, 467, 479, 487, 491, 499, 503, 509, 521, 523, 541]\n"
     ]
    }
   ],
   "source": [
    "# Generate the first 100 primes using the iterative method\n",
    "iterative_primes = generate_primes_iterative(100)\n",
    "print(\"Iterative Method Primes:\", iterative_primes)"
   ]
  },
  {
   "cell_type": "markdown",
   "metadata": {},
   "source": [
    "## Sieve of Eratosthenes Method\n",
    "Now instead of checking each number on by one, we can use this method which marks the multiples of each prime number, so we don't have to check them later.\n",
    "\n",
    "Steps:\n",
    "1. Start with a list of numbers.\n",
    "2. Mark all multiples of 2 and then move to the next number and so on.\n",
    "3. Repeat until we have gone through the list.\n",
    "4. The numbers that are not marked during the process are primes.\n",
    "\n",
    "This method is much faster when needing to sort through a large number of primes."
   ]
  },
  {
   "cell_type": "markdown",
   "metadata": {},
   "source": [
    "### Generate prime numbers using Sieve of Eratosthenes until the 'limit'(100) is reached"
   ]
  },
  {
   "cell_type": "code",
   "execution_count": 17,
   "metadata": {},
   "outputs": [],
   "source": [
    "def generate_primes_sieve(limit):\n",
    "    \n",
    "    #Upper bound estimate to find atleast 100 primes\n",
    "    upper_bound = 600\n",
    "    is_prime = [True] * (upper_bound + 1)\n",
    "    is_prime[0] = is_prime[1] = False  # 0 and 1 are not primes\n",
    "\n",
    "    p = 2\n",
    "    while p * p <= upper_bound:\n",
    "        if is_prime[p]:\n",
    "            for i in range(p * p, upper_bound + 1, p):\n",
    "                is_prime[i] = False\n",
    "        p += 1\n",
    "    \n",
    "    primes = [i for i, flag in enumerate(is_prime) if flag]\n",
    "    return primes[:limit]\n"
   ]
  },
  {
   "cell_type": "code",
   "execution_count": 18,
   "metadata": {},
   "outputs": [
    {
     "name": "stdout",
     "output_type": "stream",
     "text": [
      "Sieve Method Primes: [2, 3, 5, 7, 11, 13, 17, 19, 23, 29, 31, 37, 41, 43, 47, 53, 59, 61, 67, 71, 73, 79, 83, 89, 97, 101, 103, 107, 109, 113, 127, 131, 137, 139, 149, 151, 157, 163, 167, 173, 179, 181, 191, 193, 197, 199, 211, 223, 227, 229, 233, 239, 241, 251, 257, 263, 269, 271, 277, 281, 283, 293, 307, 311, 313, 317, 331, 337, 347, 349, 353, 359, 367, 373, 379, 383, 389, 397, 401, 409, 419, 421, 431, 433, 439, 443, 449, 457, 461, 463, 467, 479, 487, 491, 499, 503, 509, 521, 523, 541]\n"
     ]
    }
   ],
   "source": [
    "# Generate the first 100 primes using the Sieve of Eratosthenes\n",
    "sieve_primes = generate_primes_sieve(100)\n",
    "print(\"Sieve Method Primes:\", sieve_primes)"
   ]
  },
  {
   "cell_type": "markdown",
   "metadata": {},
   "source": [
    "## Testing and Comparing Both methods\n",
    "\n",
    "We now will compare the outputs of the iterative and sieve methods. Both methods should produce the same list of the first 100 primes, this will ensure that both methods are implemented correctly"
   ]
  },
  {
   "cell_type": "code",
   "execution_count": 19,
   "metadata": {},
   "outputs": [
    {
     "name": "stdout",
     "output_type": "stream",
     "text": [
      "Iterative Method Primes:  [2, 3, 5, 7, 11, 13, 17, 19, 23, 29, 31, 37, 41, 43, 47, 53, 59, 61, 67, 71, 73, 79, 83, 89, 97, 101, 103, 107, 109, 113, 127, 131, 137, 139, 149, 151, 157, 163, 167, 173, 179, 181, 191, 193, 197, 199, 211, 223, 227, 229, 233, 239, 241, 251, 257, 263, 269, 271, 277, 281, 283, 293, 307, 311, 313, 317, 331, 337, 347, 349, 353, 359, 367, 373, 379, 383, 389, 397, 401, 409, 419, 421, 431, 433, 439, 443, 449, 457, 461, 463, 467, 479, 487, 491, 499, 503, 509, 521, 523, 541]\n",
      "Sieve Method Primes:  [2, 3, 5, 7, 11, 13, 17, 19, 23, 29, 31, 37, 41, 43, 47, 53, 59, 61, 67, 71, 73, 79, 83, 89, 97, 101, 103, 107, 109, 113, 127, 131, 137, 139, 149, 151, 157, 163, 167, 173, 179, 181, 191, 193, 197, 199, 211, 223, 227, 229, 233, 239, 241, 251, 257, 263, 269, 271, 277, 281, 283, 293, 307, 311, 313, 317, 331, 337, 347, 349, 353, 359, 367, 373, 379, 383, 389, 397, 401, 409, 419, 421, 431, 433, 439, 443, 449, 457, 461, 463, 467, 479, 487, 491, 499, 503, 509, 521, 523, 541]\n",
      "✅ Both methods generate the same list of 100 primes!\n"
     ]
    }
   ],
   "source": [
    "# Generate primes using both methods\n",
    "iterative_primes = generate_primes_iterative(100)\n",
    "sieve_primes = generate_primes_sieve(100)\n",
    "\n",
    "# Print both results\n",
    "print(\"Iterative Method Primes: \", iterative_primes)\n",
    "print(\"Sieve Method Primes: \", sieve_primes)\n",
    "\n",
    "# Compare the list using an assert statement\n",
    "assert iterative_primes == sieve_primes, \"Mismatch between both methods!\"\n",
    "print(\"✅ Both methods generate the same list of 100 primes!\")"
   ]
  },
  {
   "cell_type": "markdown",
   "metadata": {},
   "source": [
    "# Conclusion for Task 4\n",
    "In this task, we implement two different methods to generate prime numbers:\n",
    "- **Iterative Prime Checking:** A simple method that checks each number individually.\n",
    "- **Sieve of Eratosthenes:** A more efficient algorithm that marks multiples of each prime.\n",
    "\n",
    "Both methods generated the same list of the first 100 primes, this shows us that both methods work correctly. The sieve method is especially useful when a Large number of primes is needed due to its efficiency.\n",
    "\n",
    "*References:*\n",
    "- [Fundamental Theorem of Arithmetic (Wikipedia)](https://en.wikipedia.org/wiki/Fundamental_theorem_of_arithmetic)  \n",
    "- [Sieve of Eratosthenes (Wikipedia)](https://en.wikipedia.org/wiki/Sieve_of_Eratosthenes)\n",
    "- [GeeksforGeeks: Sieve of Eratosthenes in Python](https://www.geeksforgeeks.org/sieve-of-eratosthenes/)  \n",
    "  This article provides a clear explanation and Python code for the Sieve of Eratosthenes algorithm."
   ]
  },
  {
   "cell_type": "markdown",
   "metadata": {},
   "source": [
    "# Task5: Roots\n",
    "\n",
    "### Overview\n",
    "In this task, we will calculate the first 32 bits of the fractional part of the square roots of the first 100 prime numbers. This involves:\n",
    "\n",
    "1. Generating the first 100 prime numbers - using the prime generation function from Task 4.\n",
    "2. For each prime, we compute its square root.\n",
    "3. We then extract the fractional part by subtracting the integer part.\n",
    "4. We then multiply the fractional part by 2^32 to shift it into an integer representation.\n",
    "5. Finally, we convert the integer to a 32-bit binary string.\n",
    "\n",
    "*References:*  \n",
    "- [Wikipedia: Square Root](https://en.wikipedia.org/wiki/Square_root)  \n",
    "- [Wikipedia: Binary Number](https://en.wikipedia.org/wiki/Binary_number)\n",
    "- [Python Documentation: Floating Point Arithmetic](https://docs.python.org/3/tutorial/floatingpoint.html)  \n",
    "  This section of the official Python documentation provides a detailed explanation of floating-point arithmetic in Python, which is useful for understanding how fractional parts are represented."
   ]
  },
  {
   "cell_type": "markdown",
   "metadata": {},
   "source": [
    "# Generate the first 100 primes using the generate_primes_iterative function"
   ]
  },
  {
   "cell_type": "code",
   "execution_count": 20,
   "metadata": {},
   "outputs": [
    {
     "name": "stdout",
     "output_type": "stream",
     "text": [
      "First 100 primes:  [2, 3, 5, 7, 11, 13, 17, 19, 23, 29, 31, 37, 41, 43, 47, 53, 59, 61, 67, 71, 73, 79, 83, 89, 97, 101, 103, 107, 109, 113, 127, 131, 137, 139, 149, 151, 157, 163, 167, 173, 179, 181, 191, 193, 197, 199, 211, 223, 227, 229, 233, 239, 241, 251, 257, 263, 269, 271, 277, 281, 283, 293, 307, 311, 313, 317, 331, 337, 347, 349, 353, 359, 367, 373, 379, 383, 389, 397, 401, 409, 419, 421, 431, 433, 439, 443, 449, 457, 461, 463, 467, 479, 487, 491, 499, 503, 509, 521, 523, 541]\n"
     ]
    }
   ],
   "source": [
    "# Generate the first 100 primes using the iterative method from Task 4\n",
    "primes_100 = generate_primes_iterative(100)\n",
    "print(\"First 100 primes: \", primes_100)"
   ]
  },
  {
   "cell_type": "markdown",
   "metadata": {},
   "source": [
    "# Calculating Fractional Parts of Square Roots\n",
    "\n",
    "For each prime number, we will:\n",
    "1. Calculate its square root by using math.sqrt.\n",
    "2. Then we will extract the fractional part by subtracting the floor value which is the greatest integer that is less than or equal to that number.\n",
    "3. We then multiply the fractional part by 2^32 to get an integer.\n",
    "4. Finally, we convert the integer to a 32-bit binary string."
   ]
  },
  {
   "cell_type": "code",
   "execution_count": null,
   "metadata": {},
   "outputs": [
    {
     "name": "stdout",
     "output_type": "stream",
     "text": [
      "Fractional bits for sqrt(2):  01101010000010011110011001100111\n"
     ]
    }
   ],
   "source": [
    "# Function to compute first bits of the fractional part of the square root of n\n",
    "def fractional_bits_of_sqrt(n, bits=32):\n",
    "    # Compute square root of n\n",
    "    sqrt_n = math.sqrt(n) \n",
    "\n",
    "    # Calculate the fractional part by subtracting the floor from sqrt_n\n",
    "    fractional_part = sqrt_n - math.floor(sqrt_n)\n",
    "\n",
    "    # multiply the fractional part by 2^ bits \n",
    "    fractional_int = int(fractional_part * (2 ** bits))\n",
    "\n",
    "    return format(fractional_int, f'0{bits}b')\n",
    "\n",
    "# Example test fpr a single prime\n",
    "print(\"Fractional bits for sqrt(2): \", fractional_bits_of_sqrt(2))"
   ]
  },
  {
   "cell_type": "markdown",
   "metadata": {},
   "source": [
    "## Applying the Fractional Bits Function\n",
    "\n",
    "We can now apply the `fractional_bits_of_sqrt` function to all 100 primes that were generated earlier. This will produce a 32-bit binary string for the fractional part of each prime's square root."
   ]
  },
  {
   "cell_type": "code",
   "execution_count": 22,
   "metadata": {},
   "outputs": [
    {
     "name": "stdout",
     "output_type": "stream",
     "text": [
      "Prime: 2, Fractional bits: 01101010000010011110011001100111\n",
      "Prime: 3, Fractional bits: 10111011011001111010111010000101\n",
      "Prime: 5, Fractional bits: 00111100011011101111001101110010\n",
      "Prime: 7, Fractional bits: 10100101010011111111010100111010\n",
      "Prime: 11, Fractional bits: 01010001000011100101001001111111\n",
      "Prime: 13, Fractional bits: 10011011000001010110100010001100\n",
      "Prime: 17, Fractional bits: 00011111100000111101100110101011\n",
      "Prime: 19, Fractional bits: 01011011111000001100110100011001\n",
      "Prime: 23, Fractional bits: 11001011101110111001110101011101\n",
      "Prime: 29, Fractional bits: 01100010100110100010100100101010\n",
      "Prime: 31, Fractional bits: 10010001010110010000000101011010\n",
      "Prime: 37, Fractional bits: 00010101001011111110110011011000\n",
      "Prime: 41, Fractional bits: 01100111001100110010011001100111\n",
      "Prime: 43, Fractional bits: 10001110101101000100101010000111\n",
      "Prime: 47, Fractional bits: 11011011000011000010111000001101\n",
      "Prime: 53, Fractional bits: 01000111101101010100100000011101\n",
      "Prime: 59, Fractional bits: 10101110010111111001000101010110\n",
      "Prime: 61, Fractional bits: 11001111011011001000010111010011\n",
      "Prime: 67, Fractional bits: 00101111011100110100011101111101\n",
      "Prime: 71, Fractional bits: 01101101000110000010011011001010\n",
      "Prime: 73, Fractional bits: 10001011010000111101010001010111\n",
      "Prime: 79, Fractional bits: 11100011011000001011010110010110\n",
      "Prime: 83, Fractional bits: 00011100010001010110000000000010\n",
      "Prime: 89, Fractional bits: 01101111000110010110001100110001\n",
      "Prime: 97, Fractional bits: 11011001010011101011111010110001\n",
      "Prime: 101, Fractional bits: 00001100110001001010011000010001\n",
      "Prime: 103, Fractional bits: 00100110000111011100000111110010\n",
      "Prime: 107, Fractional bits: 01011000000101011010011110111110\n",
      "Prime: 109, Fractional bits: 01110000101101111110110101100111\n",
      "Prime: 113, Fractional bits: 10100001010100010011110001101001\n",
      "Prime: 127, Fractional bits: 01000100111110010011011000110101\n",
      "Prime: 131, Fractional bits: 01110010000011011100110111111101\n",
      "Prime: 137, Fractional bits: 10110100011001110011011010011110\n",
      "Prime: 139, Fractional bits: 11001010001100100000101101110101\n",
      "Prime: 149, Fractional bits: 00110100111000001101010000101110\n",
      "Prime: 151, Fractional bits: 01001001110001111101100110111101\n",
      "Prime: 157, Fractional bits: 10000111101010111011100111110010\n",
      "Prime: 163, Fractional bits: 11000100011000111010001011111100\n",
      "Prime: 167, Fractional bits: 11101100001111111100001111110011\n",
      "Prime: 173, Fractional bits: 00100111001001110111111101101101\n",
      "Prime: 179, Fractional bits: 01100001000010111110101111110010\n",
      "Prime: 181, Fractional bits: 01110100001000001011010010011110\n",
      "Prime: 191, Fractional bits: 11010001111111011000101000110011\n",
      "Prime: 193, Fractional bits: 11100100011101110011010110010100\n",
      "Prime: 197, Fractional bits: 00001001001000011001011111110110\n",
      "Prime: 199, Fractional bits: 00011011010100110000110010010101\n",
      "Prime: 211, Fractional bits: 10000110100111010110001101000010\n",
      "Prime: 223, Fractional bits: 11101110111001010010111001001111\n",
      "Prime: 227, Fractional bits: 00010001000001110110011010001001\n",
      "Prime: 229, Fractional bits: 00100001111110111010001101111011\n",
      "Prime: 233, Fractional bits: 01000011101010111001111110110110\n",
      "Prime: 239, Fractional bits: 01110101101010011111100100011101\n",
      "Prime: 241, Fractional bits: 10000110001100000101000000011001\n",
      "Prime: 251, Fractional bits: 11010111110011011000000101110011\n",
      "Prime: 257, Fractional bits: 00000111111111100000000011111111\n",
      "Prime: 263, Fractional bits: 00110111100111110101000100111111\n",
      "Prime: 269, Fractional bits: 01100110101101100101000110101000\n",
      "Prime: 271, Fractional bits: 01110110010010101011100001000010\n",
      "Prime: 277, Fractional bits: 10100100101100000110101111100001\n",
      "Prime: 281, Fractional bits: 11000011010101111000110000010101\n",
      "Prime: 283, Fractional bits: 11010010100101100010101001010011\n",
      "Prime: 293, Fractional bits: 00011110000000111001111101000000\n",
      "Prime: 307, Fractional bits: 10000101011110110111101111101110\n",
      "Prime: 311, Fractional bits: 10100010100110111111001011011110\n",
      "Prime: 313, Fractional bits: 10110001000110100011001011101000\n",
      "Prime: 317, Fractional bits: 11001101111100110100111010000000\n",
      "Prime: 331, Fractional bits: 00110001100000110000010000100110\n",
      "Prime: 337, Fractional bits: 01011011100010010000100100101011\n",
      "Prime: 347, Fractional bits: 10100000110000000110101000010011\n",
      "Prime: 349, Fractional bits: 10101110011110011000010000101111\n",
      "Prime: 353, Fractional bits: 11001001110011011010011010001001\n",
      "Prime: 359, Fractional bits: 11110010100000011111001000111001\n",
      "Prime: 367, Fractional bits: 00101000010000010010010110010010\n",
      "Prime: 373, Fractional bits: 01010000001011100110010011011011\n",
      "Prime: 379, Fractional bits: 01110111110010011100001000010001\n",
      "Prime: 383, Fractional bits: 10010010000001001100110110011101\n",
      "Prime: 389, Fractional bits: 10111001000110111111011001100011\n",
      "Prime: 397, Fractional bits: 11101100110000111000110010011101\n",
      "Prime: 401, Fractional bits: 00000110011001010110000010010101\n",
      "Prime: 409, Fractional bits: 00111001010001111001001110000001\n",
      "Prime: 419, Fractional bits: 01111000001100000111011010010111\n",
      "Prime: 421, Fractional bits: 10000100101011100100101101111100\n",
      "Prime: 431, Fractional bits: 11000010101100101011011101010101\n",
      "Prime: 433, Fractional bits: 11001111000000111101001000001110\n",
      "Prime: 439, Fractional bits: 11110011110010111011000100010111\n",
      "Prime: 443, Fractional bits: 00001100001011010011101101001011\n",
      "Prime: 449, Fractional bits: 00110000100010101111000101100001\n",
      "Prime: 457, Fractional bits: 01100000101001111010100110011000\n",
      "Prime: 461, Fractional bits: 01111000100011011001100000010010\n",
      "Prime: 463, Fractional bits: 10000100011101101001101101000010\n",
      "Prime: 467, Fractional bits: 10011100001101001111000001100010\n",
      "Prime: 479, Fractional bits: 11100010110101010110010011000100\n",
      "Prime: 487, Fractional bits: 00010001011011010111010111111101\n",
      "Prime: 491, Fractional bits: 00101000100101001100000100000111\n",
      "Prime: 499, Fractional bits: 01010110100110110101100011000110\n",
      "Prime: 503, Fractional bits: 01101101011110110011100100111001\n",
      "Prime: 509, Fractional bits: 10001111100111111000110110111011\n",
      "Prime: 521, Fractional bits: 11010011010011110000001111001101\n",
      "Prime: 523, Fractional bits: 11011110100000110111001011101111\n",
      "Prime: 541, Fractional bits: 01000010011010000111101000111001\n"
     ]
    }
   ],
   "source": [
    "# Compute and print the 32-bit fractional parts for each prime in the first 100 primes\n",
    "fractional_bits_list = [(p, fractional_bits_of_sqrt(p)) for p in primes_100] \n",
    "\n",
    "for prime, bits in fractional_bits_list:\n",
    "    print(f\"Prime: {prime}, Fractional bits: {bits}\")"
   ]
  },
  {
   "cell_type": "markdown",
   "metadata": {},
   "source": [
    "## Explanation of `fractional_bits_of_sqrt` Function\n",
    "\n",
    "This function computes the first `bits` with the default being 32 bits of the fractional part of the square root of a number `n`, and here is a breakdown of how this works:\n",
    "\n",
    "1. **Calculate the Square Root:**\n",
    "So first the function calculates the square root of `n` using `math.sqrt(n)` and then stores it in the variable `sqrt_n`.\n",
    "\n",
    "2. **Extract the Fractional Part:**\n",
    "To be able to isolate the fractional part of the square root, we subtract the floor value of `sqrt_n` (i.e - the largest integer is less than or equal to `sqrt_n`) from `sqrt_n`, and this gives us the decimal part only.\n",
    " *Example:* If `sqrt_n` is 1.414, then `math.floor(sqrt_n)` is 1, and then the fractional part is approximately 0.414.\n",
    "\n",
    " 3. **Scale the Fractional Part:**\n",
    "We can then multiply the fractional part by 2^bits (which is 2^32 by default).\n",
    "This then shifts the fractional part into an integer range between 0 and 2^bits - 1. \n",
    "*Example:* Multiplying 0.414 by 2^32 scales the fractional portion to an integer value.\n",
    "\n",
    "4. **Convert to a Binary String:**\n",
    "Now Finally, the function then converts this integer to a binary string with a fixed length of `bits` using Python's `format` function. \n",
    "\n",
    "Using this process we can effectively capture the first 32 bits of the fractional portion of the square root of `n` as a binary string."
   ]
  },
  {
   "cell_type": "code",
   "execution_count": null,
   "metadata": {},
   "outputs": [],
   "source": []
  },
  {
   "cell_type": "markdown",
   "metadata": {},
   "source": []
  },
  {
   "cell_type": "markdown",
   "metadata": {},
   "source": [
    "## Task 6: Proof of Work\n",
    "\n",
    "### Overview\n",
    "In cryptocurrencies such as Bitcoin, the term \"Proof of Work\" means to find a value whose hash begins with a given number of zero bits, so in this task we will do the following:\n",
    "\n",
    "1. Load a list of English words.\n",
    "2. Compute each word's SHA-256 digest.\n",
    "3. We will count how many zeros bits in a row appear at the start of each digest.\n",
    "4. Then we identify the words with the highest count of leading zero bits.\n",
    "5. Finally, we will verify that the winning words appear in an English dictionary.\n",
    "\n",
    "### Usage:\n",
    "- **SHA-256 specification** (FIPS PUB 180-4) has provided the bitwise definition for the digest and also confirm that SHA-256 outputs a 256-bit value, which we can then convert to a bit string for zero-counting.\n",
    "- **SHA-256 (Wikipedia)** explains how the `hashlib.sha256` is used in python.\n",
    "- **Proof of Work (Bitcoin Wiki)** gives an idea of the concept that requires leading zero bits as a difficulty metric and also helped to guide in counting zero bits in Python.\n",
    "\n",
    "**References**  \n",
    "- FIPS PUB 180-4, Secure Hash Standard (NIST) — used to confirm digest length and bit-order for SHA-256. \n",
    "- [SHA-256 (Wikipedia)](https://en.wikipedia.org/wiki/SHA-2) — used to understand hex output and converting into binary.\n",
    "- [Proof of Work (Bitcoin Wiki)](https://en.bitcoin.it/wiki/Proof_of_work) "
   ]
  },
  {
   "cell_type": "markdown",
   "metadata": {},
   "source": [
    "## Step 1: Load words from a text file\n",
    "\n",
    "In this function we load words from a text file called `words_aplha.txt`, this contains a large list of English words.\n",
    "This file is commonly used for language and cryptography task, and it's available on GitHub from the [`dwyl/english-words`](https://github.com/dwyl/english-words) repository.\n",
    "\n",
    "We will first create a function that read the text file and returns a list of words."
   ]
  },
  {
   "cell_type": "code",
   "execution_count": 23,
   "metadata": {},
   "outputs": [
    {
     "name": "stdout",
     "output_type": "stream",
     "text": [
      "First 10 words loaded: ['a', 'aa', 'aaa', 'aah', 'aahed', 'aahing', 'aahs', 'aal', 'aalii', 'aaliis']\n",
      "Total words loaded: 370105\n"
     ]
    }
   ],
   "source": [
    "# Function to load words from a text file\n",
    "\n",
    "def load_words(file_path):\n",
    "\n",
    "    with open(file_path, 'r') as f:\n",
    "        return [line.strip() for line in f.readlines() if line.strip()]\n",
    "    \n",
    "file_path = 'words_alpha.txt'\n",
    "words = load_words(file_path) # Load the words\n",
    "\n",
    "# Print some words to test\n",
    "print(\"First 10 words loaded:\", words[:10]) # First 10 words\n",
    "print(\"Total words loaded:\", len(words)) # total amount of words loaded"
   ]
  },
  {
   "cell_type": "markdown",
   "metadata": {},
   "source": [
    "## Step 2: Compute SHA-256 Hash for each word\n",
    " Here we are computing the SHA-256 digest for each of the words in the word list, by using the built-in `hashlib` library for hashing.\n",
    "\n",
    " Each hash is converted from a hexadecimal string into a 256-bit binary string, and this way we can see the number of leading zero bits in the next step."
   ]
  },
  {
   "cell_type": "code",
   "execution_count": 24,
   "metadata": {},
   "outputs": [
    {
     "name": "stdout",
     "output_type": "stream",
     "text": [
      "SHA-256 binary of 'hello':\n",
      "0010110011110010010011011011101001011111101100001010001100001110001001101110100000111011001010101100010110111001111000101001111000011011000101100001111001011100000111111010011101000010010111100111001100000100001100110110001010010011100010111001100000100100\n"
     ]
    }
   ],
   "source": [
    "# Function that computes SHA-256 hash\n",
    "def sha256_to_binary(word):\n",
    "    hash_bytes = hashlib.sha256(word.encode()).digest() # Compute SHA-256 hash\n",
    "    return ''.join(f'{byte:08b}' for byte in hash_bytes) # Convert to binary string\n",
    "\n",
    "# Check function with a sample word\n",
    "sample_word = \"hello\"\n",
    "sample_binary = sha256_to_binary(sample_word)\n",
    "\n",
    "# Print \n",
    "print(f\"SHA-256 binary of '{sample_word}':\")\n",
    "print(sample_binary)"
   ]
  },
  {
   "cell_type": "markdown",
   "metadata": {},
   "source": [
    "## Step 3: Counting the leading zero bits\n",
    "\n",
    "Now that we have the SHA-256 hash in binary, we can next count how many zero bits there is in a row at the start of the string. The number of leading zero bits will show us the \"difficulty\" of the proof-of-work results.\n",
    "\n",
    "Foe example, the word `\"hello\"` has two leading zero bits.\n",
    "\n",
    "We can now define the `count_leading_zeros()` function that checks and counts how many zeros appear before the first `1`."
   ]
  },
  {
   "cell_type": "code",
   "execution_count": 25,
   "metadata": {},
   "outputs": [
    {
     "name": "stdout",
     "output_type": "stream",
     "text": [
      "Leading zeros in SHA-256 binary of 'hello': 2\n",
      "Actual binary: 0010110011110010010011011011101001011111101100001010001100001110001001101110100000111011001010101100010110111001111000101001111000011011000101100001111001011100000111111010011101000010010111100111001100000100001100110110001010010011100010111001100000100100\n"
     ]
    }
   ],
   "source": [
    "# Function to count leading zero bits in a binary string\n",
    "def count_leading_zeros(binary_string):\n",
    "    count = 0\n",
    "    for bit in binary_string:\n",
    "        if bit == '0':\n",
    "            count += 1\n",
    "        else: \n",
    "            break\n",
    "    return count\n",
    "    \n",
    "# Test the function\n",
    "sample_binary = sha256_to_binary(\"hello\")\n",
    "zero_count = count_leading_zeros(sample_binary)\n",
    "\n",
    "# Print the results\n",
    "print(f\"Leading zeros in SHA-256 binary of 'hello': {zero_count}\")\n",
    "print(f\"Actual binary: {sample_binary}\")"
   ]
  },
  {
   "cell_type": "markdown",
   "metadata": {},
   "source": [
    "## Step 4: Find the words with the most leading zeros\n",
    "\n",
    "In this step, with the binary SHA-256 hash, we can count the leading zeros and this way we can simulate the proof-of-work difficulty."
   ]
  },
  {
   "cell_type": "code",
   "execution_count": 26,
   "metadata": {},
   "outputs": [
    {
     "name": "stdout",
     "output_type": "stream",
     "text": [
      "Maximum leading zeros found: 18\n",
      "Words with that many leading zeros:\n",
      "goaltenders\n"
     ]
    }
   ],
   "source": [
    "max_leading_zeros = 0\n",
    "best_words = []\n",
    "\n",
    "for word in words:\n",
    "    binary_hash = sha256_to_binary(word)\n",
    "    zero_count = count_leading_zeros(binary_hash)\n",
    "\n",
    "    if zero_count > max_leading_zeros:\n",
    "        max_leading_zeros = zero_count\n",
    "        best_words = [word]  # start new list\n",
    "    elif zero_count == max_leading_zeros:\n",
    "        best_words.append(word)\n",
    "\n",
    "# Print results\n",
    "print(f\"Maximum leading zeros found: {max_leading_zeros}\")\n",
    "print(\"Words with that many leading zeros:\")\n",
    "for word in best_words:\n",
    "    print(word)"
   ]
  },
  {
   "cell_type": "markdown",
   "metadata": {},
   "source": [
    "### Verifying words with WordNet\n",
    "The word **\"goaltenders\"** has the most leading zeros with the count of 18, and the word is verified to exist in the WordNet dictionary."
   ]
  },
  {
   "cell_type": "code",
   "execution_count": null,
   "metadata": {},
   "outputs": [
    {
     "name": "stdout",
     "output_type": "stream",
     "text": [
      "\n",
      " Verifying with WordNet:\n",
      "'goaltenders' is found in WordNet ✅\n"
     ]
    }
   ],
   "source": [
    "\n",
    "# Validate using WordNet\n",
    "print(\"\\n Verifying with WordNet:\")\n",
    "for word in best_words:\n",
    "    if wordnet.synsets(word):\n",
    "        print(f\"'{word}' is found in WordNet ✅\")\n",
    "    else:\n",
    "        print(f\"'{word}' NOT found in WordNet ❌\")"
   ]
  },
  {
   "cell_type": "markdown",
   "metadata": {},
   "source": [
    "## Task 7: Turing Machine Simulation\n",
    "\n",
    "In this task, we will simulate a basic **Turing Machine**, which is one of the first models of how computers work, which was created by **Alan Turing**. It works by moving an infinite tape, which reads and writes symbols based on a set of rules. The idea is to show how even simple instructions can lead to smart and useful behavior.\n",
    "\n",
    "In this task we will:\n",
    "- Define the machine using a 7-tuple.\n",
    "- Write a function that tells the machine what to do based on its current state and symbol.\n",
    "- Simulate how the machine moves across the tape, and how it rewrites the symbols and updates its state.\n",
    "- Finally, watch how the machine stops when it reaches a final state, so either accepting or rejecting state.\n",
    "\n",
    "### References\n",
    "- **Turing, A. M. (1937)** – Provided the 7-tuple definition of a Turing Machine from *On Computable Numbers, with an application to the Entscheidungsproblem*\n",
    "- **Michael Sipser** – *Introduction to the Theory of Computation* - helped with understanding the use of states, tape alphabets and how the final states behave.\n",
    "- **Wikipedia - Turing Machine** - Helped to understand the function signatures:\n",
    "`δ: (Q \\ F) × T → Q × T × {L, R}`"
   ]
  },
  {
   "cell_type": "markdown",
   "metadata": {},
   "source": [
    "#"
   ]
  },
  {
   "cell_type": "markdown",
   "metadata": {},
   "source": [
    "## Step 1: Define the machine as a 7-tuple\n",
    "\n",
    "A Turing machine is defined as a 7-tuple:\n",
    "\n",
    "(Q, T, b, A, δ, s, F)\n",
    "\n",
    "- **Q** is the set of all possible **states**.\n",
    "- **T** is the tape alphabet, which are the symbols the machine can read and write.\n",
    "- **b** is the blank symbol that represents empty cells.\n",
    "- **A** is the input alphabet.\n",
    "- **δ** being the delta which is the transition function.\n",
    "- **s** is the start state, so the machine begins here.\n",
    "- **F** is the set of final states, so accepting and rejecting states.\n",
    "\n",
    "Now we can define each component of the machine based on the formal 7-tuple"
   ]
  },
  {
   "cell_type": "code",
   "execution_count": null,
   "metadata": {},
   "outputs": [],
   "source": [
    "# States (Q)\n",
    "Q = {'U', 'V', 'A', 'F'}\n",
    "\n",
    "# Tape Alphabet (T)\n",
    "T = {'0', '1', '_'}\n",
    "\n",
    "# Blank Symbol (b)\n",
    "b = '_'\n",
    "\n",
    "# Input Alphabet (A) \n",
    "A = {'0', '1'}\n",
    "\n",
    "# Transition Function (δ)\n",
    "def delta(state, symbol):\n",
    "    table = {\n",
    "        ('U', '0'): ('U', '0', 'R'),\n",
    "        ('U', '1'): ('V', '1', 'R'),\n",
    "        ('U', '_'): ('A', '_', 'L'),\n",
    "        ('V', '0'): ('V', '0', 'R'),\n",
    "        ('V', '1'): ('U', '1', 'R'),\n",
    "        ('V', '_'): ('F', '_', 'L'),\n",
    "    }\n",
    "    return table[(state, symbol)]\n",
    "\n",
    "# Start State (s)\n",
    "s = 'U'\n",
    "\n",
    "# Final States (F)\n",
    "F = {'A', 'F'}"
   ]
  },
  {
   "cell_type": "markdown",
   "metadata": {},
   "source": [
    "## Step 2: Simualte the Turing Machine\n",
    "\n",
    "Next we can create a function that runs the machine based on some input, first it reads the tape and follows the rules, and moves left or right until it reaches a final state.\n",
    "\n",
    "The machine keeps track of:\n",
    "- The current state\n",
    "- The tape \n",
    "- The current position of the tape"
   ]
  },
  {
   "cell_type": "markdown",
   "metadata": {},
   "source": [
    "## What the function does:\n",
    "- If the input is empty, it replaces it with a blank to simulate an empty tape.\n",
    "- Converts the input into a list of symbols\n",
    "- Sets the head position at the start of the tape and counts the steps that were taken.\n",
    "- Looks up start state and final states from the transition table.\n",
    "- It then loops through steps and applies the transition rules.\n",
    "\n",
    "This continues until the machine reaches a final state."
   ]
  },
  {
   "cell_type": "code",
   "execution_count": null,
   "metadata": {},
   "outputs": [],
   "source": [
    "def simulate(table, initial_input, verbose=True):\n",
    "   if initial_input == '':\n",
    "        initial_input = '_'\n",
    "   tape = list(initial_input)\n",
    "   pos = 0\n",
    "   steps = 0\n",
    "\n",
    "   # Get the start state (first state in the table)\n",
    "   state = list(table.keys())[0][0]\n",
    "\n",
    "   # Find final states based on transitions\n",
    "   all_states = set(k[0] for k in table.keys())\n",
    "   next_states = set(v[0] for v in table.values())\n",
    "   final_states = next_states - all_states\n",
    "\n",
    "   if verbose:\n",
    "        print(state + ''.join(tape))\n",
    "   \n",
    "   while state not in final_states:\n",
    "      symbol = tape[pos]\n",
    "      state, tape[pos], direction = table[(state, symbol)]\n",
    "      steps += 1\n",
    "\n",
    "      # Move left or right\n",
    "      pos = pos -1 if direction == 'L' else pos + 1\n",
    "\n",
    "      # Expand tape if its needed\n",
    "      if pos < 0:\n",
    "         tape.insert(0, '_')\n",
    "         pos = 0\n",
    "      elif pos >= len(tape):\n",
    "       tape.append('_')\n",
    "\n",
    "      if verbose:\n",
    "         print(''.join(tape[:pos]) + state + ''.join(tape[pos:]))\n",
    "\n",
    "   if verbose:\n",
    "     print(f\"Number of steps: {steps}\")\n",
    "   return state"
   ]
  },
  {
   "cell_type": "markdown",
   "metadata": {},
   "source": [
    "## Step 3: Run the simulation\n",
    "We can now test the machine with the input '1010'. The machine will then follow the transition rules we defined and display each step as it moves across the tape until it reaches a final state."
   ]
  },
  {
   "cell_type": "code",
   "execution_count": null,
   "metadata": {},
   "outputs": [
    {
     "name": "stdout",
     "output_type": "stream",
     "text": [
      "U1010\n",
      "1V010\n",
      "10V10\n",
      "101U0\n",
      "1010U_\n",
      "101A0_\n",
      "Number of steps: 5\n"
     ]
    },
    {
     "data": {
      "text/plain": [
       "'A'"
      ]
     },
     "execution_count": 30,
     "metadata": {},
     "output_type": "execute_result"
    }
   ],
   "source": [
    "# Example state table\n",
    "state_table = {\n",
    "    ('U', '0'): ('U', '0', 'R'),\n",
    "    ('U', '1'): ('V', '1', 'R'),\n",
    "    ('U', '_'): ('A', '_', 'L'),\n",
    "    ('V', '0'): ('V', '0', 'R'),\n",
    "    ('V', '1'): ('U', '1', 'R'),\n",
    "    ('V', '_'): ('F', '_', 'L'),\n",
    "}\n",
    "\n",
    "# Run the simulation\n",
    "simulate(state_table, '1010')"
   ]
  },
  {
   "cell_type": "markdown",
   "metadata": {},
   "source": [
    "## Step 4: Test the machine with different inputs\n",
    "\n",
    "So to make sure that the machine works correctly, we test it using some different binary strings, which include and empty string and some mixed sequences of `0`s and `1`s.\n",
    "This way we can see how the machine behaves with different inputs and transitions to a final state."
   ]
  },
  {
   "cell_type": "code",
   "execution_count": null,
   "metadata": {},
   "outputs": [
    {
     "name": "stdout",
     "output_type": "stream",
     "text": [
      "\n",
      "Testing input: ''\n",
      "U_\n",
      "A__\n",
      "Number of steps: 1\n",
      "\n",
      "Testing input: '0'\n",
      "U0\n",
      "0U_\n",
      "A0_\n",
      "Number of steps: 2\n",
      "\n",
      "Testing input: '1'\n",
      "U1\n",
      "1V_\n",
      "F1_\n",
      "Number of steps: 2\n",
      "\n",
      "Testing input: '101'\n",
      "U101\n",
      "1V01\n",
      "10V1\n",
      "101U_\n",
      "10A1_\n",
      "Number of steps: 4\n",
      "\n",
      "Testing input: '1100'\n",
      "U1100\n",
      "1V100\n",
      "11U00\n",
      "110U0\n",
      "1100U_\n",
      "110A0_\n",
      "Number of steps: 5\n",
      "\n",
      "Testing input: '111000111'\n",
      "U111000111\n",
      "1V11000111\n",
      "11U1000111\n",
      "111V000111\n",
      "1110V00111\n",
      "11100V0111\n",
      "111000V111\n",
      "1110001U11\n",
      "11100011V1\n",
      "111000111U_\n",
      "11100011A1_\n",
      "Number of steps: 10\n"
     ]
    }
   ],
   "source": [
    "test_inputs = ['', '0', '1', '101', '1100', '111000111']\n",
    "\n",
    "for test in test_inputs:\n",
    "    print(f\"\\nTesting input: '{test}'\")\n",
    "    simulate(state_table, test)"
   ]
  },
  {
   "cell_type": "markdown",
   "metadata": {},
   "source": [
    "## Task 8: Computational Complexity - Bubble Sort\n",
    "\n",
    "In this task we explore **computational complexity** by using a sorting algorithm called the **Bubble Sort**, and we use it to analyse how the number of comparisons grows with different permutations.\n",
    "\n",
    "This aligns well with the definition of time complexity from **Sipser's Introduction to the Theory of Computation**, where we study the number of steps an algorithm or machine takes\n",
    "relative to the size of the input.\n",
    "\n",
    "Bubble sort is a great choice for this demonstration because:\n",
    "\n",
    "- It's fairly easy to understand and implement.\n",
    "- In terms of comparison it has predictable behavior.\n",
    "- It illustrates **worst-case, best-case, and average-case complexity**.\n",
    "\n",
    "In this task we will:\n",
    "- implements a version of bubble sort that counts the number of comparisons.\n",
    "- And we will apply it to all permutations of the list `[1, 2, 3, 4, 5]`.\n",
    "- Finally, we will print each permutation with the comparison count.\n",
    "\n",
    "## References\n",
    "\n",
    "- Sipser, M. (2012). *Introduction to the Theory of Computation* (3rd ed.). Cengage Learning.\n",
    "- Cormen, T. H., Leiserson, C. E., Rivest, R. L., & Stein, C. (2009). *Introduction to Algorithms* (3rd ed.). MIT Press.\n",
    "- GeeksforGeeks: https://www.geeksforgeeks.org/bubble-sort/ - describes how Bubble Sort works using adjacent comparisons and how it can be modified to count comparisons.\n",
    "- Programiz - https://www.programiz.com/dsa/bubble-sort - Provides step-by-step explanation and pseudocode, which helped with the python logic."
   ]
  },
  {
   "cell_type": "markdown",
   "metadata": {},
   "source": [
    "### Bubble Sort with Comparison Counter\n",
    "\n",
    "In this function we implement the classic **Bubble Sort** algorithm that allows us to count the number of **comparisons** made during sorting, so for each par of adjacent elements it increases the counter. This way we can measure the time complexity in terms of comparisons for different input permutations.\n",
    "\n",
    "Also, to better reflect the behavior of Bubble Sorting, we include early exit meaning if a full pass completes without any swaps, the algorithm stops early. This way we can measure how input order affects the number of comparisons and helps to visualise the best-case, worst-case, and average-case complexity."
   ]
  },
  {
   "cell_type": "code",
   "execution_count": null,
   "metadata": {},
   "outputs": [],
   "source": [
    "def bubble_sort_with_count(arr):\n",
    "    count = 0\n",
    "    n = len(arr)\n",
    "    for i in range(n):\n",
    "        swapped = False\n",
    "        for j in range(n - i - 1):\n",
    "            count += 1\n",
    "            if arr[j] > arr[j + 1]:\n",
    "                arr[j], arr[j + 1] = arr[j + 1], arr[j]\n",
    "                swapped = True\n",
    "        if not swapped:\n",
    "            break\n",
    "    return count"
   ]
  },
  {
   "cell_type": "markdown",
   "metadata": {},
   "source": [
    "### Applying Bubble Sort to All Permutations\n",
    "\n",
    "Here we use Python's `itertools.permutations` to generate all the possible orderings of the list `[1, 2, 3, 4, 5]`. This means for each permutation, we can apply the custom Bubble Sort function that counts comparisons. There are 120 permutations in total (5! = 120).\n",
    "\n",
    "Now by printing each permutation with is comparison count, we can see how the number of steps varies depending on the ordering of the data and this way we can see if its **best-case**, **worst-case**, and **average-case** complexity."
   ]
  },
  {
   "cell_type": "code",
   "execution_count": null,
   "metadata": {},
   "outputs": [
    {
     "name": "stdout",
     "output_type": "stream",
     "text": [
      "Permutation: (1, 2, 3, 4, 5) -> Comparisons: 4\n",
      "Permutation: (1, 2, 3, 5, 4) -> Comparisons: 7\n",
      "Permutation: (1, 2, 4, 3, 5) -> Comparisons: 7\n",
      "Permutation: (1, 2, 4, 5, 3) -> Comparisons: 9\n",
      "Permutation: (1, 2, 5, 3, 4) -> Comparisons: 7\n",
      "Permutation: (1, 2, 5, 4, 3) -> Comparisons: 9\n",
      "Permutation: (1, 3, 2, 4, 5) -> Comparisons: 7\n",
      "Permutation: (1, 3, 2, 5, 4) -> Comparisons: 7\n",
      "Permutation: (1, 3, 4, 2, 5) -> Comparisons: 9\n",
      "Permutation: (1, 3, 4, 5, 2) -> Comparisons: 10\n",
      "Permutation: (1, 3, 5, 2, 4) -> Comparisons: 9\n",
      "Permutation: (1, 3, 5, 4, 2) -> Comparisons: 10\n",
      "Permutation: (1, 4, 2, 3, 5) -> Comparisons: 7\n",
      "Permutation: (1, 4, 2, 5, 3) -> Comparisons: 9\n",
      "Permutation: (1, 4, 3, 2, 5) -> Comparisons: 9\n",
      "Permutation: (1, 4, 3, 5, 2) -> Comparisons: 10\n",
      "Permutation: (1, 4, 5, 2, 3) -> Comparisons: 9\n",
      "Permutation: (1, 4, 5, 3, 2) -> Comparisons: 10\n",
      "Permutation: (1, 5, 2, 3, 4) -> Comparisons: 7\n",
      "Permutation: (1, 5, 2, 4, 3) -> Comparisons: 9\n",
      "Permutation: (1, 5, 3, 2, 4) -> Comparisons: 9\n",
      "Permutation: (1, 5, 3, 4, 2) -> Comparisons: 10\n",
      "Permutation: (1, 5, 4, 2, 3) -> Comparisons: 9\n",
      "Permutation: (1, 5, 4, 3, 2) -> Comparisons: 10\n",
      "Permutation: (2, 1, 3, 4, 5) -> Comparisons: 7\n",
      "Permutation: (2, 1, 3, 5, 4) -> Comparisons: 7\n",
      "Permutation: (2, 1, 4, 3, 5) -> Comparisons: 7\n",
      "Permutation: (2, 1, 4, 5, 3) -> Comparisons: 9\n",
      "Permutation: (2, 1, 5, 3, 4) -> Comparisons: 7\n",
      "Permutation: (2, 1, 5, 4, 3) -> Comparisons: 9\n",
      "Permutation: (2, 3, 1, 4, 5) -> Comparisons: 9\n",
      "Permutation: (2, 3, 1, 5, 4) -> Comparisons: 9\n",
      "Permutation: (2, 3, 4, 1, 5) -> Comparisons: 10\n",
      "Permutation: (2, 3, 4, 5, 1) -> Comparisons: 10\n",
      "Permutation: (2, 3, 5, 1, 4) -> Comparisons: 10\n",
      "Permutation: (2, 3, 5, 4, 1) -> Comparisons: 10\n",
      "Permutation: (2, 4, 1, 3, 5) -> Comparisons: 9\n",
      "Permutation: (2, 4, 1, 5, 3) -> Comparisons: 9\n",
      "Permutation: (2, 4, 3, 1, 5) -> Comparisons: 10\n",
      "Permutation: (2, 4, 3, 5, 1) -> Comparisons: 10\n",
      "Permutation: (2, 4, 5, 1, 3) -> Comparisons: 10\n",
      "Permutation: (2, 4, 5, 3, 1) -> Comparisons: 10\n",
      "Permutation: (2, 5, 1, 3, 4) -> Comparisons: 9\n",
      "Permutation: (2, 5, 1, 4, 3) -> Comparisons: 9\n",
      "Permutation: (2, 5, 3, 1, 4) -> Comparisons: 10\n",
      "Permutation: (2, 5, 3, 4, 1) -> Comparisons: 10\n",
      "Permutation: (2, 5, 4, 1, 3) -> Comparisons: 10\n",
      "Permutation: (2, 5, 4, 3, 1) -> Comparisons: 10\n",
      "Permutation: (3, 1, 2, 4, 5) -> Comparisons: 7\n",
      "Permutation: (3, 1, 2, 5, 4) -> Comparisons: 7\n",
      "Permutation: (3, 1, 4, 2, 5) -> Comparisons: 9\n",
      "Permutation: (3, 1, 4, 5, 2) -> Comparisons: 10\n",
      "Permutation: (3, 1, 5, 2, 4) -> Comparisons: 9\n",
      "Permutation: (3, 1, 5, 4, 2) -> Comparisons: 10\n",
      "Permutation: (3, 2, 1, 4, 5) -> Comparisons: 9\n",
      "Permutation: (3, 2, 1, 5, 4) -> Comparisons: 9\n",
      "Permutation: (3, 2, 4, 1, 5) -> Comparisons: 10\n",
      "Permutation: (3, 2, 4, 5, 1) -> Comparisons: 10\n",
      "Permutation: (3, 2, 5, 1, 4) -> Comparisons: 10\n",
      "Permutation: (3, 2, 5, 4, 1) -> Comparisons: 10\n",
      "Permutation: (3, 4, 1, 2, 5) -> Comparisons: 9\n",
      "Permutation: (3, 4, 1, 5, 2) -> Comparisons: 10\n",
      "Permutation: (3, 4, 2, 1, 5) -> Comparisons: 10\n",
      "Permutation: (3, 4, 2, 5, 1) -> Comparisons: 10\n",
      "Permutation: (3, 4, 5, 1, 2) -> Comparisons: 10\n",
      "Permutation: (3, 4, 5, 2, 1) -> Comparisons: 10\n",
      "Permutation: (3, 5, 1, 2, 4) -> Comparisons: 9\n",
      "Permutation: (3, 5, 1, 4, 2) -> Comparisons: 10\n",
      "Permutation: (3, 5, 2, 1, 4) -> Comparisons: 10\n",
      "Permutation: (3, 5, 2, 4, 1) -> Comparisons: 10\n",
      "Permutation: (3, 5, 4, 1, 2) -> Comparisons: 10\n",
      "Permutation: (3, 5, 4, 2, 1) -> Comparisons: 10\n",
      "Permutation: (4, 1, 2, 3, 5) -> Comparisons: 7\n",
      "Permutation: (4, 1, 2, 5, 3) -> Comparisons: 9\n",
      "Permutation: (4, 1, 3, 2, 5) -> Comparisons: 9\n",
      "Permutation: (4, 1, 3, 5, 2) -> Comparisons: 10\n",
      "Permutation: (4, 1, 5, 2, 3) -> Comparisons: 9\n",
      "Permutation: (4, 1, 5, 3, 2) -> Comparisons: 10\n",
      "Permutation: (4, 2, 1, 3, 5) -> Comparisons: 9\n",
      "Permutation: (4, 2, 1, 5, 3) -> Comparisons: 9\n",
      "Permutation: (4, 2, 3, 1, 5) -> Comparisons: 10\n",
      "Permutation: (4, 2, 3, 5, 1) -> Comparisons: 10\n",
      "Permutation: (4, 2, 5, 1, 3) -> Comparisons: 10\n",
      "Permutation: (4, 2, 5, 3, 1) -> Comparisons: 10\n",
      "Permutation: (4, 3, 1, 2, 5) -> Comparisons: 9\n",
      "Permutation: (4, 3, 1, 5, 2) -> Comparisons: 10\n",
      "Permutation: (4, 3, 2, 1, 5) -> Comparisons: 10\n",
      "Permutation: (4, 3, 2, 5, 1) -> Comparisons: 10\n",
      "Permutation: (4, 3, 5, 1, 2) -> Comparisons: 10\n",
      "Permutation: (4, 3, 5, 2, 1) -> Comparisons: 10\n",
      "Permutation: (4, 5, 1, 2, 3) -> Comparisons: 9\n",
      "Permutation: (4, 5, 1, 3, 2) -> Comparisons: 10\n",
      "Permutation: (4, 5, 2, 1, 3) -> Comparisons: 10\n",
      "Permutation: (4, 5, 2, 3, 1) -> Comparisons: 10\n",
      "Permutation: (4, 5, 3, 1, 2) -> Comparisons: 10\n",
      "Permutation: (4, 5, 3, 2, 1) -> Comparisons: 10\n",
      "Permutation: (5, 1, 2, 3, 4) -> Comparisons: 7\n",
      "Permutation: (5, 1, 2, 4, 3) -> Comparisons: 9\n",
      "Permutation: (5, 1, 3, 2, 4) -> Comparisons: 9\n",
      "Permutation: (5, 1, 3, 4, 2) -> Comparisons: 10\n",
      "Permutation: (5, 1, 4, 2, 3) -> Comparisons: 9\n",
      "Permutation: (5, 1, 4, 3, 2) -> Comparisons: 10\n",
      "Permutation: (5, 2, 1, 3, 4) -> Comparisons: 9\n",
      "Permutation: (5, 2, 1, 4, 3) -> Comparisons: 9\n",
      "Permutation: (5, 2, 3, 1, 4) -> Comparisons: 10\n",
      "Permutation: (5, 2, 3, 4, 1) -> Comparisons: 10\n",
      "Permutation: (5, 2, 4, 1, 3) -> Comparisons: 10\n",
      "Permutation: (5, 2, 4, 3, 1) -> Comparisons: 10\n",
      "Permutation: (5, 3, 1, 2, 4) -> Comparisons: 9\n",
      "Permutation: (5, 3, 1, 4, 2) -> Comparisons: 10\n",
      "Permutation: (5, 3, 2, 1, 4) -> Comparisons: 10\n",
      "Permutation: (5, 3, 2, 4, 1) -> Comparisons: 10\n",
      "Permutation: (5, 3, 4, 1, 2) -> Comparisons: 10\n",
      "Permutation: (5, 3, 4, 2, 1) -> Comparisons: 10\n",
      "Permutation: (5, 4, 1, 2, 3) -> Comparisons: 9\n",
      "Permutation: (5, 4, 1, 3, 2) -> Comparisons: 10\n",
      "Permutation: (5, 4, 2, 1, 3) -> Comparisons: 10\n",
      "Permutation: (5, 4, 2, 3, 1) -> Comparisons: 10\n",
      "Permutation: (5, 4, 3, 1, 2) -> Comparisons: 10\n",
      "Permutation: (5, 4, 3, 2, 1) -> Comparisons: 10\n"
     ]
    }
   ],
   "source": [
    "import itertools\n",
    "\n",
    "# The list to test\n",
    "L = [1, 2, 3, 4, 5]\n",
    "\n",
    "# Generate all permutations of the list\n",
    "permutations = list(itertools.permutations(L))\n",
    "\n",
    "# Apply bubble_sort_with_count to each permutation and print results\n",
    "for perm in permutations:\n",
    "    perm_list = list(perm)\n",
    "    comparisons = bubble_sort_with_count(perm_list.copy())\n",
    "    print(f\"Permutation: {perm} -> Comparisons: {comparisons}\")"
   ]
  }
 ],
 "metadata": {
  "kernelspec": {
   "display_name": "Python 3",
   "language": "python",
   "name": "python3"
  },
  "language_info": {
   "codemirror_mode": {
    "name": "ipython",
    "version": 3
   },
   "file_extension": ".py",
   "mimetype": "text/x-python",
   "name": "python",
   "nbconvert_exporter": "python",
   "pygments_lexer": "ipython3",
   "version": "3.12.1"
  }
 },
 "nbformat": 4,
 "nbformat_minor": 2
}
